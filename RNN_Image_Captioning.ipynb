{
 "cells": [
  {
   "cell_type": "markdown",
   "metadata": {
    "id": "GGe6KesjJ3sm"
   },
   "source": [
    "### Please Write Your VT PID Here: niket\n",
    "### Reference (if any):"
   ]
  },
  {
   "cell_type": "code",
   "execution_count": 38,
   "metadata": {
    "id": "Xj0hs9ObJ3so"
   },
   "outputs": [],
   "source": [
    "# import necessary packages and modules\n",
    "import torch\n",
    "import torch.nn as nn\n",
    "import torch.nn.functional as F\n",
    "import torchvision\n",
    "from torchvision import transforms\n",
    "from torch.nn.utils.rnn import pack_padded_sequence\n",
    "from torch.autograd import Variable\n",
    "import numpy as np\n",
    "import matplotlib.pyplot as plt\n",
    "import os"
   ]
  },
  {
   "cell_type": "markdown",
   "metadata": {
    "id": "1stZqtdSJ3sq"
   },
   "source": [
    "# Image Captioning Using Encoder-Decoder Architecture\n",
    "\n",
    "Simply, the encoder will take the image as input and encode it into a vector of feature values. The decoder will take this output from encoder as hidden state and starts to predict next words at each step. The following figure illustrates this:\n",
    "\n",
    "<img src=\"figs/image_captioning_overview.jpg\" width=\"600\">\n",
    "Figure 1. An overview of the encoder-decoder architecture\n",
    "(image credit: <a href=\"https://link.springer.com/chapter/10.1007/978-3-030-04780-1_23\">Deep Neural Network Based Image Captioning</a>)\n",
    "\n",
    "You will use a pre-trained CNN as the encoder and Vanilla RNN/LSTM as decoder to predict the captions."
   ]
  },
  {
   "cell_type": "markdown",
   "metadata": {
    "id": "HYdI70o0J3sr"
   },
   "source": [
    "# Section 1.1 Data\n",
    "Download dataset following the instructions. We are gonna use Flickr30k dataset, which consists of 31783 images and 158,915 captions. However, instead of using the whole dataset and \"results.csv\", we will follow Karpathy's Flickr30k annotations and use \"dataset_flickr30k.json\". Please move \"dataset_flickr30k.json\" to \"flickr30k_images\" folder.\n",
    "\n",
    "## How to download the data (ARC)\n",
    "Since the original Flickr30K dataset requires application, we will use the dataset from Kaggle. \n",
    "\n",
    "Step 1: Register a Kaggle account. https://www.kaggle.com/\n",
    "\n",
    "Step 2: Log into ARC server in the terminal, e.g. Huckleberry.\n",
    "\n",
    "Step 3: Install required packages.\n",
    "\n",
    "    - if you're gonna use powerai on Huckleberry\n",
    "        # step 1: request for GPU nodes\n",
    "        salloc --partition=normal_q --nodes=1 --tasks-per-node=10 --gres=gpu:1 bash\n",
    "        # or if you don't want a GPU, it will be faster to get a job\n",
    "        salloc --partition=normal_q --nodes=1 --tasks-per-node=10 bash\n",
    "        # step 2: load all necessary modules\n",
    "        module load gcc cuda Anaconda3 jdk\n",
    "        # step 3: activate the virtual environment\n",
    "        source activate powerai16_ibm\n",
    "        # step 4: for new packages(take tqdm for example)\n",
    "        pip install --user kaggle nltk # on hulogin1/hulogin2\n",
    "        \n",
    "    - if you're gonna use your own conda environment, simply type\n",
    "        pip install kaggle nltk\n",
    "Step 4: Make sure you have kaggle. Type `kaggle`.\n",
    "\n",
    "Step 5: Download your kaggle.json file from  https://www.kaggle.com/Your_Username/account. In API section, click Create New API Token. Then move you kaggle.json file to the path `/home/your_name_space/.kaggle/kaggle.json`.\n",
    "\n",
    "Step 6: Download the dataset. Type `kaggle datasets download hsankesara/flickr-image-dataset`.\n",
    "\n",
    "Step 7: Unzip the dataset. Type `unzip flickr-image-dataset.zip -x \"flickr30k_images/flickr30k_images/flickr30k_images/*.jpg\" -d \"/path-to-Assignment_4/Assignment_4/\"`\n",
    "\n",
    "Step 8: You should have your dataset in `/path-to-Assignment_4/Assignment_4/flickr30k_images/`\n",
    "\n",
    "Step 9: Move \"dataset_flickr30k.json\" to \"flickr30k_images\" folder.\n",
    "\n",
    "**Note** that you might want to use `nltk.download('punkt')` and `torchvision.models.resnet50(pretrained=True)` before you enter the GPU node."
   ]
  },
  {
   "cell_type": "markdown",
   "metadata": {
    "id": "qfFJOXPZJ3sr"
   },
   "source": [
    "## How to download the data (Google Colab)\n",
    "Step 1: Register a Kaggle account.  https://www.kaggle.com/\n",
    "\n",
    "Step 2: Download your kaggle.json file from  https://www.kaggle.com/Your_Username/account. In API section, click Create New API Token.\n",
    "\n",
    "Step 3: As we did before, upload all files on Google Drive and open Google Colab.\n",
    "\n",
    "Step 4: Install required packages.\n",
    "    \n",
    "    ! pip install -q kaggle nltk\n",
    "\n",
    "Step 5: Insert a cell.\n",
    "    \n",
    "    \n",
    "    from google.colab import files\n",
    "    files.upload()\n",
    "    \n",
    "    \n",
    "    Upload `kaggle.json` you just downloaded.\n",
    "    \n",
    "Step 6: Move `kaggle.json` to the right place,\n",
    "    \n",
    "    \n",
    "     ! mkdir ~/.kaggle\n",
    "     ! cp kaggle.json ~/.kaggle/\n",
    "    \n",
    "\n",
    "Step 7: Change the permission.\n",
    "    \n",
    "    ! chmod 600 ~/.kaggle/kaggle.json\n",
    "\n",
    "Step 8: Download.\n",
    "    \n",
    "    !kaggle datasets download hsankesara/flickr-image-dataset\n",
    "\n",
    "Step 9: Move it to your drive and unzip it.\n",
    "    \n",
    "    unzip flickr-image-dataset.zip -x \"flickr30k_images/flickr30k_images/flickr30k_images/*.jpg\" -d \"/path-to-Assignment_4/Assignment_4/\"\n",
    "    \n",
    "Step 10: Move \"dataset_flickr30k.json\" to \"flickr30k_images\" folder."
   ]
  },
  {
   "cell_type": "markdown",
   "metadata": {
    "id": "tpAQE7UDJ3ss"
   },
   "source": [
    "### Colab Setup: \n",
    "- Below are some basic steps for colab setup. \n",
    "- Make changes based on requirements.\n",
    "- Comment out in case of ARC or your local device with powerful GPU.\n",
    "\n",
    "**Note: For Google Colab give proper paths in this notebook and in dataloader.py if required.**"
   ]
  },
  {
   "cell_type": "code",
   "execution_count": 39,
   "metadata": {
    "colab": {
     "base_uri": "https://localhost:8080/"
    },
    "id": "oIRkFjs9J3ss",
    "outputId": "1afd4557-45bb-41d3-c8b7-1290c8ca8111"
   },
   "outputs": [
    {
     "name": "stdout",
     "output_type": "stream",
     "text": [
      "Drive already mounted at /content/drive; to attempt to forcibly remount, call drive.mount(\"/content/drive\", force_remount=True).\n"
     ]
    }
   ],
   "source": [
    "from google.colab import drive\n",
    "drive.mount('/content/drive')"
   ]
  },
  {
   "cell_type": "code",
   "execution_count": 40,
   "metadata": {
    "id": "f3alqNQ8J3su"
   },
   "outputs": [],
   "source": [
    "import sys\n",
    "# modify \"customized_path_to_homework\", path of folder in drive, where you uploaded your homework\n",
    "path_to_homework = \"/content/drive/My Drive/DL_Fall_2020/Assignment_4/\"\n",
    "sys.path.append(path_to_homework)"
   ]
  },
  {
   "cell_type": "code",
   "execution_count": null,
   "metadata": {
    "colab": {
     "base_uri": "https://localhost:8080/",
     "height": 89,
     "resources": {
      "http://localhost:8080/nbextensions/google.colab/files.js": {
       "data": "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",
       "headers": [
        [
         "content-type",
         "application/javascript"
        ]
       ],
       "ok": true,
       "status": 200,
       "status_text": ""
      }
     }
    },
    "id": "-d-AHAZFT_Sx",
    "outputId": "5b8c8a96-275a-4754-94c7-e2626637f379"
   },
   "outputs": [
    {
     "data": {
      "text/html": [
       "\n",
       "     <input type=\"file\" id=\"files-d58f1526-e9d6-4326-a14d-52aa365cb520\" name=\"files[]\" multiple disabled\n",
       "        style=\"border:none\" />\n",
       "     <output id=\"result-d58f1526-e9d6-4326-a14d-52aa365cb520\">\n",
       "      Upload widget is only available when the cell has been executed in the\n",
       "      current browser session. Please rerun this cell to enable.\n",
       "      </output>\n",
       "      <script src=\"/nbextensions/google.colab/files.js\"></script> "
      ],
      "text/plain": [
       "<IPython.core.display.HTML object>"
      ]
     },
     "metadata": {
      "tags": []
     },
     "output_type": "display_data"
    },
    {
     "name": "stdout",
     "output_type": "stream",
     "text": [
      "Saving kaggle.json to kaggle.json\n"
     ]
    },
    {
     "data": {
      "text/plain": [
       "{'kaggle.json': b'{\"username\":\"sharmaniket\",\"key\":\"530732fb8cc28afff5bab3e7769bfc9d\"}'}"
      ]
     },
     "execution_count": 5,
     "metadata": {
      "tags": []
     },
     "output_type": "execute_result"
    }
   ],
   "source": [
    "from google.colab import files\n",
    "files.upload()\n",
    " \n",
    " \n"
   ]
  },
  {
   "cell_type": "code",
   "execution_count": null,
   "metadata": {
    "id": "WAEkBGIxUM6t"
   },
   "outputs": [],
   "source": [
    "! mkdir ~/.kaggle\n",
    "! cp kaggle.json ~/.kaggle/"
   ]
  },
  {
   "cell_type": "code",
   "execution_count": null,
   "metadata": {
    "id": "z5BJqWSFUZP9"
   },
   "outputs": [],
   "source": [
    "! chmod 600 ~/.kaggle/kaggle.json"
   ]
  },
  {
   "cell_type": "code",
   "execution_count": null,
   "metadata": {
    "colab": {
     "base_uri": "https://localhost:8080/"
    },
    "id": "GMhzcXJFUd5R",
    "outputId": "758b2922-e781-450e-9f77-eb8f4273db29"
   },
   "outputs": [
    {
     "name": "stdout",
     "output_type": "stream",
     "text": [
      "Downloading flickr-image-dataset.zip to /content\n",
      "100% 8.16G/8.16G [03:09<00:00, 37.5MB/s]\n",
      "100% 8.16G/8.16G [03:09<00:00, 46.3MB/s]\n"
     ]
    }
   ],
   "source": [
    "!kaggle datasets download hsankesara/flickr-image-dataset"
   ]
  },
  {
   "cell_type": "code",
   "execution_count": 36,
   "metadata": {
    "id": "sGWVoWihJ3sw"
   },
   "outputs": [],
   "source": [
    "from dataloader import Flickr30k, get_loader"
   ]
  },
  {
   "cell_type": "markdown",
   "metadata": {
    "id": "cpzWAMYXJ3sz"
   },
   "source": [
    "# Section 1.2 Take a look at the data"
   ]
  },
  {
   "cell_type": "code",
   "execution_count": 41,
   "metadata": {
    "colab": {
     "base_uri": "https://localhost:8080/"
    },
    "id": "ns-tXQzAJ3sz",
    "outputId": "d65869ac-932b-4a40-ebbc-18f24a6c4fd0"
   },
   "outputs": [
    {
     "name": "stdout",
     "output_type": "stream",
     "text": [
      "-------flickr30k--------\n",
      "image root: /content/drive/My Drive/DL_Fall_2020/Assignment_4/flickr30k_images/flickr30k_images\n",
      "dataset split: val\n",
      "the length of the dataset: 1014\n"
     ]
    }
   ],
   "source": [
    "# visualize images and captions\n",
    "flickr = Flickr30k(split='val', root=\"/content/drive/My Drive/DL_Fall_2020/Assignment_4/flickr30k_images/\")   # load validation set as an example\n",
    "flickr()"
   ]
  },
  {
   "cell_type": "code",
   "execution_count": 42,
   "metadata": {
    "colab": {
     "base_uri": "https://localhost:8080/",
     "height": 285
    },
    "id": "hJ7CPI5Psi--",
    "outputId": "214f2232-7eb3-438c-d7da-23671fabf9be"
   },
   "outputs": [
    {
     "name": "stdout",
     "output_type": "stream",
     "text": [
      "['A group of people where some are holding yellow tote bags under trees and a sign that says start.', 'A crowd of people are gathered at the start sign for the walk.', 'A group of people gathered around the starting line of a race.', 'A large crowd is standing around the start line.', 'A crowd loiters near the start of a marathon.']\n"
     ]
    },
    {
     "data": {
      "image/png": "[encoded data removed]",
      "text/plain": [
       "<Figure size 432x288 with 1 Axes>"
      ]
     },
     "metadata": {
      "needs_background": "light",
      "tags": []
     },
     "output_type": "display_data"
    }
   ],
   "source": [
    "# show a random image and its captions\n",
    "img_id = np.random.randint(len(flickr))\n",
    "img = flickr.get_img(img_id)\n",
    "captions = flickr.get_captions(img_id)\n",
    "\n",
    "plt.figure()\n",
    "plt.imshow(img)\n",
    "plt.axis('off')\n",
    "\n",
    "print(captions)"
   ]
  },
  {
   "cell_type": "code",
   "execution_count": 43,
   "metadata": {
    "id": "ICnOFsEnJ3s4"
   },
   "outputs": [],
   "source": [
    "del flickr"
   ]
  },
  {
   "cell_type": "markdown",
   "metadata": {
    "id": "eFbVPvcZJ3s6"
   },
   "source": [
    "# Section 1.3 Build vocabulary\n",
    "We need to build a vocabulary for our dataset. The vocabulary stores all the words and their indices. We will use it to embed and recover the words."
   ]
  },
  {
   "cell_type": "code",
   "execution_count": 44,
   "metadata": {
    "colab": {
     "base_uri": "https://localhost:8080/"
    },
    "id": "-rqkqBl2J3s6",
    "outputId": "9d41e432-c687-45ac-9cf1-2cf24c13d00f"
   },
   "outputs": [
    {
     "name": "stdout",
     "output_type": "stream",
     "text": [
      "[nltk_data] Downloading package punkt to /root/nltk_data...\n",
      "[nltk_data]   Unzipping tokenizers/punkt.zip.\n"
     ]
    }
   ],
   "source": [
    "import nltk\n",
    "import pickle\n",
    "import json\n",
    "from tqdm import tqdm\n",
    "from collections import Counter\n",
    "nltk.download('punkt') # You can comment this line once you've downloaded 'punkt'\n",
    "\n",
    "class Vocabulary(object):\n",
    "    \"\"\"Simple vocabulary wrapper.\"\"\"\n",
    "    def __init__(self):\n",
    "        self.word2idx = {'<pad>': 0, '<unk>': 1, '<start>': 2, '<end>': 3}  # follow Pytorch padding rules: pad sentence with zero.\n",
    "        self.idx = 4\n",
    "        self.idx2word = {v: k for k, v in self.word2idx.items()}\n",
    "\n",
    "    def __call__(self, key):\n",
    "        if key not in self.word2idx:\n",
    "            return self.word2idx['<unk>']\n",
    "        return self.word2idx[key]\n",
    "\n",
    "    def __len__(self):\n",
    "        return len(self.word2idx)\n",
    "\n",
    "    def add_word(self, word):\n",
    "        \"\"\"\n",
    "        Add new words\n",
    "        :param word: word\n",
    "        \"\"\"\n",
    "        if word not in self.word2idx:\n",
    "            self.word2idx[word] = self.idx  # add a new word\n",
    "            self.idx2word[self.idx] = word\n",
    "            self.idx += 1\n",
    "\n",
    "    def reverse(self, value):\n",
    "        \"\"\"\n",
    "        From idx to words.\n",
    "        :param value: index\n",
    "        :return:\n",
    "        \"\"\"\n",
    "        if value not in self.idx2word:\n",
    "            return self.idx2word[1]  # return '<unk>' if the word is unseen before.\n",
    "        return self.idx2word[value]\n",
    "\n",
    "def build_vocab(json_file=path_to_homework+ '/flickr30k_images/dataset_flickr30k.json', threshold=3):\n",
    "    with open(json_file) as f:\n",
    "            data = json.load(f)\n",
    "    f.close()\n",
    "    counter = Counter()\n",
    "    for img_idx in tqdm(range(len(data['images']))):\n",
    "        img_annos = data['images'][img_idx]\n",
    "        for sent_idx in range(len(img_annos['sentids'])):\n",
    "#             tokens = img_annos['sentences'][sent_idx]['tokens']  # directly load tokens\n",
    "\n",
    "            caption = img_annos['sentences'][sent_idx]['raw']\n",
    "            tokens = nltk.tokenize.word_tokenize(caption.lower())\n",
    "            \n",
    "            counter.update(tokens)\n",
    "\n",
    "    # If the number of words is less than threshold we don't count it.\n",
    "    words = [word for word, cnt in counter.items() if cnt >= threshold]\n",
    "\n",
    "\n",
    "    # create a Vocabulary class\n",
    "    vocab = Vocabulary()\n",
    "\n",
    "    # add words to Vocab\n",
    "    for i, word in enumerate(words):\n",
    "        vocab.add_word(word)\n",
    "\n",
    "    return vocab"
   ]
  },
  {
   "cell_type": "code",
   "execution_count": 45,
   "metadata": {
    "colab": {
     "base_uri": "https://localhost:8080/"
    },
    "id": "GBoGhpmWJ3s8",
    "outputId": "5681f593-f965-4970-cd97-d075665a772c"
   },
   "outputs": [
    {
     "name": "stderr",
     "output_type": "stream",
     "text": [
      "100%|██████████| 31014/31014 [00:19<00:00, 1579.09it/s]\n"
     ]
    },
    {
     "name": "stdout",
     "output_type": "stream",
     "text": [
      "Total vocabulary size: 9991\n",
      "Saved the vocabulary wrapper to '/content/drive/My Drive/DL_Fall_2020/Assignment_4//flickr30k_images/vocab.pkl'\n"
     ]
    }
   ],
   "source": [
    "# let's create a vocabulary for future usage\n",
    "vocab_path = path_to_homework + '/flickr30k_images/vocab.pkl'\n",
    "if not os.path.isfile(vocab_path):  # if we don't have vocab, create one\n",
    "    vocab = build_vocab(json_file=path_to_homework + '/flickr30k_images/dataset_flickr30k.json', threshold=3)\n",
    "    with open(vocab_path, 'wb') as f:\n",
    "        pickle.dump(vocab, f)\n",
    "    print(\"Total vocabulary size: {}\".format(len(vocab)))\n",
    "    print(\"Saved the vocabulary wrapper to '{}'\".format(vocab_path))\n",
    "else:  # if we have, load the existing vocab\n",
    "    with open(vocab_path, 'rb') as f:\n",
    "        vocab = pickle.load(f)\n",
    "    print('vocab loaded!')\n",
    "    print('the size of vocab:', len(vocab))\n",
    "f.close()"
   ]
  },
  {
   "cell_type": "code",
   "execution_count": 46,
   "metadata": {
    "colab": {
     "base_uri": "https://localhost:8080/"
    },
    "id": "5fcrh0HgJ3s-",
    "outputId": "5899baf7-ae8c-4b67-ffe9-622c88ca02bc"
   },
   "outputs": [
    {
     "name": "stdout",
     "output_type": "stream",
     "text": [
      "vocab loaded!\n",
      "the size of vocab: 9991\n",
      "word: busch, index: 5481\n",
      "word: skinned, index: 8256\n",
      "word: applaud, index: 6205\n"
     ]
    }
   ],
   "source": [
    "vocab_path = path_to_homework + '/flickr30k_images/vocab.pkl'\n",
    "with open(vocab_path, 'rb') as f:\n",
    "    vocab = pickle.load(f)\n",
    "print('vocab loaded!')\n",
    "print('the size of vocab:', len(vocab))\n",
    "# print(vocab.word2idx.keys())\n",
    "# print(vocab.idx2word)\n",
    "\n",
    "# check some random words\n",
    "for i in range(3):\n",
    "    random_idx = np.random.randint(len(vocab))\n",
    "    print('word: {}, index: {}'.format(list(vocab.word2idx.keys())[random_idx], vocab(list(vocab.word2idx.keys())[random_idx])))"
   ]
  },
  {
   "cell_type": "markdown",
   "metadata": {
    "id": "mZgxjIhuJ3tA"
   },
   "source": [
    "# Section 2 Vanilla RNN [45 pts]\n",
    "# Section 2.1 Design the Network: Encoder [5 pts]\n",
    "Implement the baseline model by using pre-trained ResNet-50 as the encoder and Vanilla RNN as the decoder. Note that we will remove the last layer (fc layer) of ResNet-50 and add a trainable linear layer to finetune it for our task. During the training, we will **freeze** the layer before the fc layer. The encoder should output a feature vector of a fixed size for each image."
   ]
  },
  {
   "cell_type": "code",
   "execution_count": 47,
   "metadata": {
    "id": "4YSPnYfx1B0-"
   },
   "outputs": [],
   "source": [
    "import torchvision.models as models\n",
    "import torch\n",
    "import torch.nn as nn\n",
    "import torch.nn.functional as F\n",
    "import torchvision\n",
    "from torchvision import transforms\n",
    "from torch.nn.utils.rnn import pack_padded_sequence\n",
    "from torch.autograd import Variable\n",
    "import numpy as np\n",
    "import matplotlib.pyplot as plt\n",
    "import os"
   ]
  },
  {
   "cell_type": "code",
   "execution_count": 48,
   "metadata": {
    "id": "L1i_XPiAJ3tA"
   },
   "outputs": [],
   "source": [
    "class Encoder(nn.Module):\n",
    "    def __init__(self, emb_dim):\n",
    "        \"\"\"\n",
    "        Use ResNet-50 as encoder.\n",
    "        :param emb_dim: output size of ResNet-50.\n",
    "        \"\"\"\n",
    "        super(Encoder, self).__init__()\n",
    "        \n",
    "        #self.resnet = torchvision.models.resnet50(pretrained=True)\n",
    "        ###########Your code###############\n",
    "        # freeze the parameters\n",
    "        #self.resnet = models.resnet50(pretrained=True)\n",
    "        resnet = models.resnet50(pretrained=True)\n",
    "        # replace the last layer (fc layer) with a trainable layer for finetuning\n",
    "        for param in resnet.parameters():\n",
    "            param.requires_grad_(False)\n",
    "        \n",
    "        # remove last fully connected layer\n",
    "        modules = list(resnet.children())[:-1]\n",
    "        \n",
    "        # build the new resnet\n",
    "        self.resnet = nn.Sequential(*modules)\n",
    "        \n",
    "        # our additional Fully connected layer with an output = the embbed size\n",
    "        # to feed the rnn\n",
    "        self.embed = nn.Linear(resnet.fc.in_features, emb_dim)\n",
    "\n",
    "    def forward(self, x):\n",
    "        x = self.resnet(x)  # output shape: [N, emb_dim]\n",
    "        #flatten for our additional fc layer\n",
    "        x = x.view(x.size(0), -1)\n",
    "        \n",
    "        x = self.embed(x)\n",
    "        return x"
   ]
  },
  {
   "cell_type": "markdown",
   "metadata": {
    "id": "78WIhmmlJ3tC"
   },
   "source": [
    "# Section 2.2 Design the Network: Decoder [10 pts]\n",
    "During decoding, we will train a RNN (https://pytorch.org/docs/stable/generated/torch.nn.RNN.html#torch.nn.RNN) to learn the structure of the caption text throught \"**Teacher Forcing**\". Teacher forcing works by using the teaching signal from the training dataset at the current time step, $target(t)$, as input in the next time step $x(t+1) = target(t)$, rather than the output $y(t)$ generated by the network. \n",
    "\n",
    "As shown in Figure 1 above, RNN will take three inputs: the *current feature*, hidden state ($h_0$) and cell state ($c_0$). The *current feature* for the first step should be the output of encoder to predict '\\<start\\>' word. Hidden states for this step should be set to None. Then in the second step '\\<start\\>' will be passed into RNN as the input, and so on.\n",
    "\n",
    "To use '\\<start\\>' or any subsequent word as current feature, get its index from the vocabulary you created, convert it to one-hot vector and pass it through a linear layer to embed into a feature (or you can take advantage of Pytorch’s nn.Embedding which does one-hot encoding + linear layer for you).\n",
    "\n",
    "For convenience, you might want to 'pad' the captions in a mini-batch to convert them into fixed length. You can use 'pack_padded_sequence' function."
   ]
  },
  {
   "cell_type": "code",
   "execution_count": null,
   "metadata": {
    "id": "TZAIgTmcJ3tC"
   },
   "outputs": [],
   "source": [
    "class Decoder(nn.Module):\n",
    "    def __init__(self, vocab_size, emb_dim, hidden_dim, num_layers=1, dropout = 0):\n",
    "        \"\"\"\n",
    "        Use RNN as decoder for captions.\n",
    "        :param emb_dim: Embedding dimensions.\n",
    "        :param hidden_dim: Hidden states dimensions.\n",
    "        :param num_layers: Number of RNN layers.\n",
    "        :param vocab_size: The size of Vocabulary.\n",
    "        :param dropout: the probability for dropout.\n",
    "        \"\"\"\n",
    "        super(Decoder, self).__init__()\n",
    "        self.max_length = 40  # the maximum length of a sentence, in case it's trapped\n",
    "        \n",
    "        #############Your code############\n",
    "        # you need to implement a Vanilla RNN for the decoder. Take a look at the official documentation.\n",
    "        # https://pytorch.org/docs/stable/generated/torch.nn.RNN.html#torch.nn.RNN\n",
    "        \n",
    "        # one-hot encoding + linear layer\n",
    "        \n",
    "        # vanilla rnn network\n",
    "        \n",
    "        # output layer\n",
    "        \n",
    "        self.hidden_dim = hidden_dim\n",
    "        \n",
    "        # Our embedding layer\n",
    "        self.word_embeddings = nn.Embedding(vocab_size, emb_dim)\n",
    "        \n",
    "        self.rnn = nn.RNN(emb_dim,hidden_dim, num_layers, batch_first=True)\n",
    "        \n",
    "        # The linear layer maps the hidden state output of the RNN to the number of words we want:\n",
    "        # vocab_size\n",
    "        self.linear = nn.Linear(self.hidden_dim, vocab_size)\n",
    "        \n",
    "    \n",
    "   \n",
    "        \n",
    "\n",
    "    def forward(self, encode_features, captions, lengths):\n",
    "        \"\"\"\n",
    "        Feed forward to generate captions. Note that you need to pad the input so they have the same length\n",
    "        :param encode_features: output of encoder, size [N, emb_dim]\n",
    "        :param captions: captions, size [N, max(lengths)]\n",
    "        :param lengths: a list indicating valid length for each caption. size is (batch_size).\n",
    "        \"\"\"\n",
    "        #############Your Code###################\n",
    "        # compute the embedding using one-hot technique and linear function\n",
    "        \n",
    "        # concatenate the encoded features from encoder and embeddings\n",
    "                \n",
    "        # feed into RNN.\n",
    "        \n",
    "        # output layer\n",
    "        \n",
    "       \n",
    "\n",
    "        # Create embedded word vectors for each word in the captions\n",
    "        embeddings = self.word_embeddings(captions)\n",
    "        \n",
    "        # Stack the features and captions\n",
    "        embeddings = torch.cat((encode_features.unsqueeze(1), embeddings), dim=1) \n",
    "        packed = pack_padded_sequence(embeddings, lengths, batch_first = True)\n",
    "\n",
    "       # rnn_out, self.hidden = self.rnn(embeddings, self.hidden) \n",
    "        rnn_out ,hidden = self.rnn(packed)\n",
    "        \n",
    "        #out = self.linear(rnn_out)\n",
    "        \n",
    "        #outputs = out[:, :-1]\n",
    "           \n",
    "        outputs = self.linear(rnn_out[0])\n",
    "\n",
    "        return outputs"
   ]
  },
  {
   "cell_type": "markdown",
   "metadata": {
    "id": "r66xmpY-J3tF"
   },
   "source": [
    "# Encoder-decoder [10 pts]\n",
    "Now we need to put our encoder and decoder together. \n",
    "\n",
    "In the sample_generate stage, the idea is to “let the network run on its own”, predicting the next word, and then use the network’s prediction to obtain the next input word. There are at least two ways to obtain the next word.\n",
    "\n",
    "- **Deterministic**: Take the maximum output at each step.\n",
    "- **Stochastic**: Sample from the probability distribution. To get the distribution, we need to compute the weighted softmax of the outputs: $y^i = \\exp(o^j/\\tau) / \\sum_n \\exp(o^n/\\tau)$, where $o^j$ is the output from the last layer, $n$ is the size of the vocabulary, and $\\tau$ is the so-called \"temperature\". By doing this, you should get a different caption each time."
   ]
  },
  {
   "cell_type": "code",
   "execution_count": null,
   "metadata": {
    "id": "PCNQpH5JJ3tF"
   },
   "outputs": [],
   "source": [
    "class Vanilla_rnn(nn.Module):\n",
    "    def __init__(self, vocab_size, emb_dim, hidden_dim, num_layers=1, dropout=0):\n",
    "        \"\"\"\n",
    "        Encoder-decoder vanilla RNN.\n",
    "        :param vocab_size: the size of Vocabulary.\n",
    "        :param emb_dim: the dimensions of word embedding.\n",
    "        :param hidden_dim: the dimensions of hidden units.\n",
    "        :param num_layers: the number of RNN layers.\n",
    "        :param dropout: dropout probability\n",
    "        \"\"\"\n",
    "        super(Vanilla_rnn, self).__init__()\n",
    "        #self.max_length = self.Decoder.max_length\n",
    "        #########Your Code################\n",
    "        # Encoder: ResNet-50\n",
    "        self.Encoder = Encoder(emb_dim)\n",
    "        # Decoder: RNN\n",
    "        self.Decoder = Decoder(vocab_size, emb_dim, hidden_dim, num_layers)\n",
    "        self.soft = nn.Softmax(dim = 1)\n",
    "        #self.max_length = self.Decoder.max_length\n",
    "        self.max_length = 40\n",
    "    def forward(self, x, captions, lengths):\n",
    "        \"\"\"\n",
    "        Feed forward.\n",
    "        :param x: Images, [N, 3, H, W]\n",
    "        :param captions: encoded captions, [N, max(lengths)]\n",
    "        :param lengths: a list indicating valid length for each caption. length is (batch_size).\n",
    "        :return: output logits, usually followed by a softmax layer.\n",
    "        \"\"\"\n",
    "        ##########Your code###################\n",
    "        # forward passing\n",
    "        features = self.Encoder(x)\n",
    "        outputs = self.Decoder(features, captions,  lengths)\n",
    "        \n",
    "        return outputs\n",
    "\n",
    "    def sample_generate(self, x, states=None, mode='Deterministic', temperature=5.0):\n",
    "        \"\"\"\n",
    "        Generate samples during the evaluation.\n",
    "        \n",
    "        :param x: input image\n",
    "        :param states: rnn states\n",
    "        :param mode: which mode we use.  \n",
    "         - 'Deterministic': Take the maximum output at each step.\n",
    "         - 'Stochastic': Sample from the probability distribution from the output layer.\n",
    "        :param temperature: will be used in the stochastic mode\n",
    "        :return: sample_idxs. Word indices. We can use vocab to recover the sentence later.\n",
    "        \"\"\"\n",
    "        sample_idxs = []  # record the index of your generated words\n",
    "        #################Your Code##################\n",
    "        # compute the encoded features\n",
    "        features = self.Encoder(x).unsqueeze(1)\n",
    "        # decide which mode we use\n",
    "        if mode == 'Deterministic':\n",
    "            # take the maximum index after the softmax\n",
    "           for itr in range(self.max_length):\n",
    "               hiddens, states = self.Decoder.rnn(features, states)\n",
    "               outputs = self.Decoder.linear(hiddens.squeeze(1))\n",
    "               predicted = outputs.max(1)[1]\n",
    "               \n",
    "               sample_idxs.append(predicted)\n",
    "               features = self.Decoder.word_embeddings(predicted).unsqueeze(1)\n",
    "           sample_idxs = torch.stack(sample_idxs,dim =1)\n",
    "\n",
    "        elif mode == 'Stochastic':\n",
    "            # sample from the probability distribution after the softmax\n",
    "            # Hint: use torch.multinomial() to sample from a distribution.\n",
    "            for itr in range(self.max_length):\n",
    "                hiddens, states = self.Decoder.rnn(features, states)\n",
    "                outputs = self.Decoder.linear(hiddens.squeeze(1))\n",
    "                probs = F.softmax(outputs.div(temperature), dim = 1)\n",
    "                predicted = torch.multinomial(probs.data,1)\n",
    "                sample_idxs.append(predicted[:,0])\n",
    "                inputs = self.Decoder.word_embeddings(predicted[:,0].unsqueeze(1))\n",
    "            sample_idxs = torch.stack(sample_idxs,dim =1)\n",
    "        return sample_idxs"
   ]
  },
  {
   "cell_type": "markdown",
   "metadata": {
    "id": "xBN2pZOKJ3tH"
   },
   "source": [
    "# Section 2.3 Training [10 pts]\n",
    "Train your encoder-decoder. You might also want to check the output sentence every epoch."
   ]
  },
  {
   "cell_type": "code",
   "execution_count": null,
   "metadata": {
    "id": "gJ7XmVuJJ3tH"
   },
   "outputs": [],
   "source": [
    "# some hyperparameters, you can change them\n",
    "## training parameters\n",
    "batch_size = 256\n",
    "lr = 1e-2\n",
    "num_epochs = 50\n",
    "weight_decay = 0.0\n",
    "log_step = 50\n",
    "\n",
    "## network architecture\n",
    "emb_dim = 1024\n",
    "hidden_dim = 256\n",
    "num_layers = 1 # number of RNN layers\n",
    "dropout = 0.0\n",
    "\n",
    "## image transformation\n",
    "transform = transforms.Compose([\n",
    "        transforms.Resize(256),\n",
    "        transforms.CenterCrop(224),\n",
    "        #     transforms.RandomCrop(224, pad_if_needed=True),\n",
    "        transforms.RandomHorizontalFlip(),\n",
    "        transforms.ToTensor(),\n",
    "        transforms.Normalize(mean=(0.485, 0.456, 0.406),\n",
    "                             std=(0.229, 0.224, 0.225))])\n",
    "\n",
    "## Output directory\n",
    "output_dir = path_to_homework + '/checkpoints/rnn/'\n",
    "os.makedirs(output_dir, exist_ok=True)\n",
    "\n",
    "## device\n",
    "device = torch.device('cuda' if torch.cuda.is_available() else 'cpu')"
   ]
  },
  {
   "cell_type": "code",
   "execution_count": 53,
   "metadata": {
    "id": "SE0JWYUkJ3tJ"
   },
   "outputs": [],
   "source": [
    "# Validation code here. We are gonna use this during the training. \n",
    "def val(model, data_loader, vocab):\n",
    "    \"\"\"\n",
    "    Inputs:\n",
    "    :param model: the encoder-decoder network.\n",
    "    :param data_loader: validation data loader\n",
    "    :param vocab: pre-built vocabulary\n",
    "    Output:\n",
    "    the mean value of validation losses\n",
    "    \"\"\"\n",
    "    print('Validating...')\n",
    "    val_loss = []\n",
    "    total_step = len(data_loader)\n",
    "    for itr, (images, captions, lengths) in enumerate(data_loader):\n",
    "        #######Your Code#########\n",
    "        # forward inputs and compute the validation loss\n",
    "        \n",
    "        # record the validation loss\n",
    "        #images, captions = data_loader['image'], data_loader['caption']\n",
    "        #images = images.type(torch.FloatTensor)\n",
    "        images = images.to(device)\n",
    "        captions = captions.to(device)\n",
    "            \n",
    "        #features = Encoder(images)\n",
    "        #outputs = Decoder(features, captions, lengths)\n",
    "        \n",
    "        targets = pack_padded_sequence(captions, lengths,batch_first = True)[0]\n",
    "        \n",
    "        outputs = model(images, captions, lengths)\n",
    "\n",
    "        loss = criterion(outputs, targets)\n",
    "        #optimizer.step()\n",
    "        #loss = criterion(outputs.contiguous().view(-1, vocab_size), captions.view(-1))\n",
    "            \n",
    "        val_loss.append(loss.detach().cpu().numpy())\n",
    "        \n",
    "\n",
    "\n",
    "\n",
    "\n",
    "\n",
    "        # Print current loss\n",
    "        if itr % log_step == 0:\n",
    "           print('Step [{}/{}], Loss: {:.4f}, Perplexity: {:5.4f}'.format(itr, total_step, loss.item(), np.exp(loss.item())))\n",
    "    \n",
    "    # (optional) you might also want to print out the sentence to see the qualitative performance of your model. \n",
    "    # You can use deterministic mode to generate sentences\n",
    "    \n",
    "\n",
    "    return np.mean(val_loss)\n"
   ]
  },
  {
   "cell_type": "code",
   "execution_count": null,
   "metadata": {
    "colab": {
     "base_uri": "https://localhost:8080/"
    },
    "id": "nPs748DmJ3tL",
    "outputId": "41d97db4-299d-48cc-c858-4efbb9cecadb"
   },
   "outputs": [
    {
     "name": "stdout",
     "output_type": "stream",
     "text": [
      "Start training...\n",
      "Switch to training...\n",
      "Epoch [0/50], Step [0/114], Loss: 9.2853, Perplexity: 10778.1624\n",
      "Epoch [0/50], Step [50/114], Loss: 3.8652, Perplexity: 47.7145\n",
      "Epoch [0/50], Step [100/114], Loss: 3.6875, Perplexity: 39.9444\n",
      "Validating...\n"
     ]
    },
    {
     "name": "stderr",
     "output_type": "stream",
     "text": [
      "/usr/local/lib/python3.6/dist-packages/numpy/core/fromnumeric.py:3335: RuntimeWarning: Mean of empty slice.\n",
      "  out=out, **kwargs)\n",
      "/usr/local/lib/python3.6/dist-packages/numpy/core/_methods.py:161: RuntimeWarning: invalid value encountered in double_scalars\n",
      "  ret = ret.dtype.type(ret / rcount)\n"
     ]
    },
    {
     "name": "stdout",
     "output_type": "stream",
     "text": [
      "Step [0/127], Loss: 3.6941, Perplexity: 40.2108\n",
      "Step [50/127], Loss: 3.4769, Perplexity: 32.3591\n",
      "Step [100/127], Loss: 3.4743, Perplexity: 32.2748\n",
      "updated best val loss: 3.6330473\n",
      "Save model weights to... /content/drive/My Drive/DL_Fall_2020/Assignment_4//checkpoints/rnn/\n",
      "Switch to training...\n",
      "Epoch [1/50], Step [0/114], Loss: 3.6542, Perplexity: 38.6365\n",
      "Epoch [1/50], Step [50/114], Loss: 3.4728, Perplexity: 32.2262\n",
      "Epoch [1/50], Step [100/114], Loss: 3.5902, Perplexity: 36.2401\n",
      "Validating...\n",
      "Step [0/127], Loss: 3.1044, Perplexity: 22.2962\n",
      "Step [50/127], Loss: 3.6910, Perplexity: 40.0863\n",
      "Step [100/127], Loss: 3.5613, Perplexity: 35.2086\n",
      "updated best val loss: 3.5487056\n",
      "Save model weights to... /content/drive/My Drive/DL_Fall_2020/Assignment_4//checkpoints/rnn/\n",
      "Switch to training...\n",
      "Epoch [2/50], Step [0/114], Loss: 3.4680, Perplexity: 32.0741\n",
      "Epoch [2/50], Step [50/114], Loss: 3.4918, Perplexity: 32.8440\n",
      "Epoch [2/50], Step [100/114], Loss: 3.4428, Perplexity: 31.2755\n",
      "Validating...\n",
      "Step [0/127], Loss: 3.4360, Perplexity: 31.0640\n",
      "Step [50/127], Loss: 3.2515, Perplexity: 25.8293\n",
      "Step [100/127], Loss: 3.9292, Perplexity: 50.8675\n",
      "Switch to training...\n",
      "Epoch [3/50], Step [0/114], Loss: 3.5525, Perplexity: 34.9009\n",
      "Epoch [3/50], Step [50/114], Loss: 3.6470, Perplexity: 38.3581\n",
      "Epoch [3/50], Step [100/114], Loss: 3.4437, Perplexity: 31.3021\n",
      "Validating...\n",
      "Step [0/127], Loss: 3.2985, Perplexity: 27.0720\n",
      "Step [50/127], Loss: 3.1969, Perplexity: 24.4576\n",
      "Step [100/127], Loss: 3.3300, Perplexity: 27.9391\n",
      "updated best val loss: 3.522003\n",
      "Save model weights to... /content/drive/My Drive/DL_Fall_2020/Assignment_4//checkpoints/rnn/\n",
      "Switch to training...\n",
      "Epoch [4/50], Step [0/114], Loss: 3.4139, Perplexity: 30.3850\n",
      "Epoch [4/50], Step [50/114], Loss: 3.4458, Perplexity: 31.3675\n",
      "Epoch [4/50], Step [100/114], Loss: 3.4656, Perplexity: 31.9953\n",
      "Validating...\n",
      "Step [0/127], Loss: 3.3724, Perplexity: 29.1492\n",
      "Step [50/127], Loss: 3.4278, Perplexity: 30.8090\n",
      "Step [100/127], Loss: 3.2665, Perplexity: 26.2192\n",
      "Switch to training...\n",
      "Epoch [5/50], Step [0/114], Loss: 3.3221, Perplexity: 27.7172\n",
      "Epoch [5/50], Step [50/114], Loss: 3.1366, Perplexity: 23.0245\n",
      "Epoch [5/50], Step [100/114], Loss: 3.2566, Perplexity: 25.9609\n",
      "Validating...\n",
      "Step [0/127], Loss: 3.2676, Perplexity: 26.2477\n",
      "Step [50/127], Loss: 4.0762, Perplexity: 58.9202\n",
      "Step [100/127], Loss: 2.9787, Perplexity: 19.6624\n",
      "updated best val loss: 3.3735733\n",
      "Save model weights to... /content/drive/My Drive/DL_Fall_2020/Assignment_4//checkpoints/rnn/\n",
      "Switch to training...\n",
      "Epoch [6/50], Step [0/114], Loss: 3.1321, Perplexity: 22.9231\n",
      "Epoch [6/50], Step [50/114], Loss: 3.2439, Perplexity: 25.6340\n",
      "Epoch [6/50], Step [100/114], Loss: 3.1083, Perplexity: 22.3826\n",
      "Validating...\n",
      "Step [0/127], Loss: 3.4330, Perplexity: 30.9702\n",
      "Step [50/127], Loss: 3.1537, Perplexity: 23.4215\n",
      "Step [100/127], Loss: 3.6202, Perplexity: 37.3461\n",
      "updated best val loss: 3.3097177\n",
      "Save model weights to... /content/drive/My Drive/DL_Fall_2020/Assignment_4//checkpoints/rnn/\n",
      "Switch to training...\n",
      "Epoch [7/50], Step [0/114], Loss: 3.1947, Perplexity: 24.4040\n",
      "Epoch [7/50], Step [50/114], Loss: 3.1127, Perplexity: 22.4827\n",
      "Epoch [7/50], Step [100/114], Loss: 3.2012, Perplexity: 24.5609\n",
      "Validating...\n",
      "Step [0/127], Loss: 3.2592, Perplexity: 26.0295\n",
      "Step [50/127], Loss: 4.0153, Perplexity: 55.4413\n",
      "Step [100/127], Loss: 3.4044, Perplexity: 30.0952\n",
      "updated best val loss: 3.3024938\n",
      "Save model weights to... /content/drive/My Drive/DL_Fall_2020/Assignment_4//checkpoints/rnn/\n",
      "Switch to training...\n",
      "Epoch [8/50], Step [0/114], Loss: 3.0969, Perplexity: 22.1282\n",
      "Epoch [8/50], Step [50/114], Loss: 3.0712, Perplexity: 21.5673\n",
      "Epoch [8/50], Step [100/114], Loss: 3.1596, Perplexity: 23.5622\n",
      "Validating...\n",
      "Step [0/127], Loss: 2.9404, Perplexity: 18.9232\n",
      "Step [50/127], Loss: 3.2540, Perplexity: 25.8925\n",
      "Step [100/127], Loss: 3.0399, Perplexity: 20.9034\n",
      "updated best val loss: 3.2891812\n",
      "Save model weights to... /content/drive/My Drive/DL_Fall_2020/Assignment_4//checkpoints/rnn/\n",
      "Switch to training...\n",
      "Epoch [9/50], Step [0/114], Loss: 3.0508, Perplexity: 21.1329\n",
      "Epoch [9/50], Step [50/114], Loss: 3.1158, Perplexity: 22.5514\n",
      "Epoch [9/50], Step [100/114], Loss: 3.0219, Perplexity: 20.5310\n",
      "Validating...\n",
      "Step [0/127], Loss: 3.4553, Perplexity: 31.6690\n",
      "Step [50/127], Loss: 3.9036, Perplexity: 49.5810\n",
      "Step [100/127], Loss: 3.5299, Perplexity: 34.1216\n",
      "updated best val loss: 3.2714698\n",
      "Save model weights to... /content/drive/My Drive/DL_Fall_2020/Assignment_4//checkpoints/rnn/\n",
      "Switch to training...\n",
      "Epoch [10/50], Step [0/114], Loss: 2.9962, Perplexity: 20.0089\n",
      "Epoch [10/50], Step [50/114], Loss: 2.9952, Perplexity: 19.9893\n",
      "Epoch [10/50], Step [100/114], Loss: 2.9669, Perplexity: 19.4314\n",
      "Validating...\n",
      "Step [0/127], Loss: 3.0707, Perplexity: 21.5566\n",
      "Step [50/127], Loss: 3.7119, Perplexity: 40.9302\n",
      "Step [100/127], Loss: 3.2350, Perplexity: 25.4068\n",
      "updated best val loss: 3.175401\n",
      "Save model weights to... /content/drive/My Drive/DL_Fall_2020/Assignment_4//checkpoints/rnn/\n",
      "Switch to training...\n",
      "Epoch [11/50], Step [0/114], Loss: 2.8700, Perplexity: 17.6364\n",
      "Epoch [11/50], Step [50/114], Loss: 3.0263, Perplexity: 20.6210\n",
      "Epoch [11/50], Step [100/114], Loss: 2.9729, Perplexity: 19.5487\n",
      "Validating...\n",
      "Step [0/127], Loss: 3.4952, Perplexity: 32.9569\n",
      "Step [50/127], Loss: 3.2397, Perplexity: 25.5249\n",
      "Step [100/127], Loss: 2.8300, Perplexity: 16.9461\n",
      "Switch to training...\n",
      "Epoch [12/50], Step [0/114], Loss: 2.9293, Perplexity: 18.7138\n",
      "Epoch [12/50], Step [50/114], Loss: 2.9207, Perplexity: 18.5543\n",
      "Epoch [12/50], Step [100/114], Loss: 2.9465, Perplexity: 19.0385\n",
      "Validating...\n",
      "Step [0/127], Loss: 3.2838, Perplexity: 26.6764\n",
      "Step [50/127], Loss: 3.6851, Perplexity: 39.8491\n",
      "Step [100/127], Loss: 2.4847, Perplexity: 11.9975\n",
      "Switch to training...\n",
      "Epoch [13/50], Step [0/114], Loss: 2.9124, Perplexity: 18.4018\n",
      "Epoch [13/50], Step [50/114], Loss: 2.8951, Perplexity: 18.0852\n",
      "Epoch [13/50], Step [100/114], Loss: 2.9182, Perplexity: 18.5086\n",
      "Validating...\n",
      "Step [0/127], Loss: 3.1546, Perplexity: 23.4428\n",
      "Step [50/127], Loss: 3.0602, Perplexity: 21.3324\n",
      "Step [100/127], Loss: 3.1258, Perplexity: 22.7788\n",
      "Switch to training...\n",
      "Epoch [14/50], Step [0/114], Loss: 2.9783, Perplexity: 19.6552\n",
      "Epoch [14/50], Step [50/114], Loss: 2.9625, Perplexity: 19.3459\n",
      "Epoch [14/50], Step [100/114], Loss: 2.8826, Perplexity: 17.8607\n",
      "Validating...\n",
      "Step [0/127], Loss: 4.4947, Perplexity: 89.5397\n",
      "Step [50/127], Loss: 3.5490, Perplexity: 34.7771\n",
      "Step [100/127], Loss: 2.7226, Perplexity: 15.2203\n",
      "updated best val loss: 3.1704032\n",
      "Save model weights to... /content/drive/My Drive/DL_Fall_2020/Assignment_4//checkpoints/rnn/\n",
      "Switch to training...\n",
      "Epoch [15/50], Step [0/114], Loss: 2.9464, Perplexity: 19.0364\n",
      "Epoch [15/50], Step [50/114], Loss: 2.8813, Perplexity: 17.8368\n",
      "Epoch [15/50], Step [100/114], Loss: 2.7956, Perplexity: 16.3732\n",
      "Validating...\n",
      "Step [0/127], Loss: 2.8468, Perplexity: 17.2321\n",
      "Step [50/127], Loss: 3.4932, Perplexity: 32.8916\n",
      "Step [100/127], Loss: 3.2077, Perplexity: 24.7215\n",
      "updated best val loss: 3.1661048\n",
      "Save model weights to... /content/drive/My Drive/DL_Fall_2020/Assignment_4//checkpoints/rnn/\n",
      "Switch to training...\n",
      "Epoch [16/50], Step [0/114], Loss: 2.8471, Perplexity: 17.2373\n",
      "Epoch [16/50], Step [50/114], Loss: 2.8901, Perplexity: 17.9950\n",
      "Epoch [16/50], Step [100/114], Loss: 2.9240, Perplexity: 18.6155\n",
      "Validating...\n",
      "Step [0/127], Loss: 3.1069, Perplexity: 22.3513\n",
      "Step [50/127], Loss: 2.9721, Perplexity: 19.5326\n",
      "Step [100/127], Loss: 3.3274, Perplexity: 27.8654\n",
      "updated best val loss: 3.1189005\n",
      "Save model weights to... /content/drive/My Drive/DL_Fall_2020/Assignment_4//checkpoints/rnn/\n",
      "Switch to training...\n",
      "Epoch [17/50], Step [0/114], Loss: 2.8014, Perplexity: 16.4676\n",
      "Epoch [17/50], Step [50/114], Loss: 2.8164, Perplexity: 16.7160\n",
      "Epoch [17/50], Step [100/114], Loss: 2.8471, Perplexity: 17.2379\n",
      "Validating...\n",
      "Step [0/127], Loss: 3.1157, Perplexity: 22.5499\n",
      "Step [50/127], Loss: 3.0141, Perplexity: 20.3698\n",
      "Step [100/127], Loss: 3.3814, Perplexity: 29.4108\n",
      "updated best val loss: 3.1170566\n",
      "Save model weights to... /content/drive/My Drive/DL_Fall_2020/Assignment_4//checkpoints/rnn/\n",
      "Switch to training...\n",
      "Epoch [18/50], Step [0/114], Loss: 2.8593, Perplexity: 17.4485\n",
      "Epoch [18/50], Step [50/114], Loss: 2.8425, Perplexity: 17.1579\n",
      "Epoch [18/50], Step [100/114], Loss: 2.8168, Perplexity: 16.7232\n",
      "Validating...\n",
      "Step [0/127], Loss: 3.1017, Perplexity: 22.2356\n",
      "Step [50/127], Loss: 2.7928, Perplexity: 16.3268\n",
      "Step [100/127], Loss: 2.7338, Perplexity: 15.3920\n",
      "updated best val loss: 3.1157799\n",
      "Save model weights to... /content/drive/My Drive/DL_Fall_2020/Assignment_4//checkpoints/rnn/\n",
      "Switch to training...\n",
      "Epoch [19/50], Step [0/114], Loss: 2.8500, Perplexity: 17.2885\n",
      "Epoch [19/50], Step [50/114], Loss: 2.8212, Perplexity: 16.7971\n",
      "Epoch [19/50], Step [100/114], Loss: 2.8382, Perplexity: 17.0856\n",
      "Validating...\n",
      "Step [0/127], Loss: 2.9081, Perplexity: 18.3214\n",
      "Step [50/127], Loss: 2.8094, Perplexity: 16.6005\n",
      "Step [100/127], Loss: 3.4744, Perplexity: 32.2777\n",
      "updated best val loss: 3.1145513\n",
      "Save model weights to... /content/drive/My Drive/DL_Fall_2020/Assignment_4//checkpoints/rnn/\n",
      "Switch to training...\n",
      "Epoch [20/50], Step [0/114], Loss: 2.7514, Perplexity: 15.6651\n",
      "Epoch [20/50], Step [50/114], Loss: 2.7826, Perplexity: 16.1608\n",
      "Epoch [20/50], Step [100/114], Loss: 2.8788, Perplexity: 17.7936\n",
      "Validating...\n",
      "Step [0/127], Loss: 3.0480, Perplexity: 21.0732\n",
      "Step [50/127], Loss: 3.2462, Perplexity: 25.6930\n",
      "Step [100/127], Loss: 3.1816, Perplexity: 24.0852\n",
      "Switch to training...\n",
      "Epoch [21/50], Step [0/114], Loss: 2.7600, Perplexity: 15.8001\n",
      "Epoch [21/50], Step [50/114], Loss: 2.7585, Perplexity: 15.7759\n",
      "Epoch [21/50], Step [100/114], Loss: 2.8820, Perplexity: 17.8499\n",
      "Validating...\n",
      "Step [0/127], Loss: 3.2559, Perplexity: 25.9423\n",
      "Step [50/127], Loss: 2.7167, Perplexity: 15.1296\n",
      "Step [100/127], Loss: 2.6854, Perplexity: 14.6645\n",
      "updated best val loss: 3.0937393\n",
      "Save model weights to... /content/drive/My Drive/DL_Fall_2020/Assignment_4//checkpoints/rnn/\n",
      "Switch to training...\n",
      "Epoch [22/50], Step [0/114], Loss: 2.7669, Perplexity: 15.9094\n",
      "Epoch [22/50], Step [50/114], Loss: 2.7824, Perplexity: 16.1579\n",
      "Epoch [22/50], Step [100/114], Loss: 2.8164, Perplexity: 16.7158\n",
      "Validating...\n",
      "Step [0/127], Loss: 2.6594, Perplexity: 14.2876\n",
      "Step [50/127], Loss: 2.8145, Perplexity: 16.6855\n",
      "Step [100/127], Loss: 3.5211, Perplexity: 33.8213\n",
      "Switch to training...\n",
      "Epoch [23/50], Step [0/114], Loss: 2.7929, Perplexity: 16.3285\n",
      "Epoch [23/50], Step [50/114], Loss: 2.7250, Perplexity: 15.2558\n",
      "Epoch [23/50], Step [100/114], Loss: 2.7907, Perplexity: 16.2924\n",
      "Validating...\n",
      "Step [0/127], Loss: 3.0676, Perplexity: 21.4899\n",
      "Step [50/127], Loss: 2.6780, Perplexity: 14.5553\n",
      "Step [100/127], Loss: 3.0623, Perplexity: 21.3757\n",
      "Switch to training...\n",
      "Epoch [24/50], Step [0/114], Loss: 2.7855, Perplexity: 16.2077\n",
      "Epoch [24/50], Step [50/114], Loss: 2.8011, Perplexity: 16.4627\n",
      "Epoch [24/50], Step [100/114], Loss: 2.7434, Perplexity: 15.5392\n",
      "Validating...\n",
      "Step [0/127], Loss: 3.0524, Perplexity: 21.1651\n",
      "Step [50/127], Loss: 3.3961, Perplexity: 29.8461\n",
      "Step [100/127], Loss: 3.2445, Perplexity: 25.6491\n",
      "updated best val loss: 3.0884745\n",
      "Save model weights to... /content/drive/My Drive/DL_Fall_2020/Assignment_4//checkpoints/rnn/\n",
      "Switch to training...\n",
      "Epoch [25/50], Step [0/114], Loss: 2.6925, Perplexity: 14.7679\n",
      "Epoch [25/50], Step [50/114], Loss: 2.7552, Perplexity: 15.7235\n",
      "Epoch [25/50], Step [100/114], Loss: 2.7886, Perplexity: 16.2583\n",
      "Validating...\n",
      "Step [0/127], Loss: 2.8490, Perplexity: 17.2712\n",
      "Step [50/127], Loss: 2.7867, Perplexity: 16.2275\n",
      "Step [100/127], Loss: 3.0088, Perplexity: 20.2626\n",
      "Switch to training...\n",
      "Epoch [26/50], Step [0/114], Loss: 2.6748, Perplexity: 14.5091\n",
      "Epoch [26/50], Step [50/114], Loss: 2.7626, Perplexity: 15.8413\n",
      "Epoch [26/50], Step [100/114], Loss: 2.7980, Perplexity: 16.4116\n",
      "Validating...\n",
      "Step [0/127], Loss: 3.3076, Perplexity: 27.3193\n",
      "Step [50/127], Loss: 2.8911, Perplexity: 18.0134\n",
      "Step [100/127], Loss: 2.7649, Perplexity: 15.8782\n",
      "updated best val loss: 3.087872\n",
      "Save model weights to... /content/drive/My Drive/DL_Fall_2020/Assignment_4//checkpoints/rnn/\n",
      "Switch to training...\n",
      "Epoch [27/50], Step [0/114], Loss: 2.6879, Perplexity: 14.7014\n",
      "Epoch [27/50], Step [50/114], Loss: 2.7031, Perplexity: 14.9257\n",
      "Epoch [27/50], Step [100/114], Loss: 2.7144, Perplexity: 15.0961\n",
      "Validating...\n",
      "Step [0/127], Loss: 3.4223, Perplexity: 30.6396\n",
      "Step [50/127], Loss: 3.2957, Perplexity: 26.9960\n",
      "Step [100/127], Loss: 2.8332, Perplexity: 16.9994\n",
      "Switch to training...\n",
      "Epoch [28/50], Step [0/114], Loss: 2.7503, Perplexity: 15.6470\n",
      "Epoch [28/50], Step [50/114], Loss: 2.7308, Perplexity: 15.3454\n",
      "Epoch [28/50], Step [100/114], Loss: 2.7544, Perplexity: 15.7114\n",
      "Validating...\n",
      "Step [0/127], Loss: 2.9544, Perplexity: 19.1897\n",
      "Step [50/127], Loss: 2.9068, Perplexity: 18.2978\n",
      "Step [100/127], Loss: 2.8123, Perplexity: 16.6489\n",
      "updated best val loss: 3.0852656\n",
      "Save model weights to... /content/drive/My Drive/DL_Fall_2020/Assignment_4//checkpoints/rnn/\n",
      "Switch to training...\n",
      "Epoch [29/50], Step [0/114], Loss: 2.7830, Perplexity: 16.1673\n",
      "Epoch [29/50], Step [50/114], Loss: 2.7326, Perplexity: 15.3725\n",
      "Epoch [29/50], Step [100/114], Loss: 2.7305, Perplexity: 15.3399\n",
      "Validating...\n",
      "Step [0/127], Loss: 3.4110, Perplexity: 30.2946\n",
      "Step [50/127], Loss: 3.2160, Perplexity: 24.9280\n",
      "Step [100/127], Loss: 2.7110, Perplexity: 15.0446\n",
      "Switch to training...\n",
      "Epoch [30/50], Step [0/114], Loss: 2.6696, Perplexity: 14.4349\n",
      "Epoch [30/50], Step [50/114], Loss: 2.7386, Perplexity: 15.4646\n",
      "Epoch [30/50], Step [100/114], Loss: 2.7064, Perplexity: 14.9756\n",
      "Validating...\n",
      "Step [0/127], Loss: 2.6862, Perplexity: 14.6756\n",
      "Step [50/127], Loss: 3.7044, Perplexity: 40.6245\n",
      "Step [100/127], Loss: 2.9656, Perplexity: 19.4058\n",
      "Switch to training...\n",
      "Epoch [31/50], Step [0/114], Loss: 2.7436, Perplexity: 15.5433\n",
      "Epoch [31/50], Step [50/114], Loss: 2.7382, Perplexity: 15.4599\n",
      "Epoch [31/50], Step [100/114], Loss: 2.7362, Perplexity: 15.4279\n",
      "Validating...\n",
      "Step [0/127], Loss: 3.2677, Perplexity: 26.2522\n",
      "Step [50/127], Loss: 2.7613, Perplexity: 15.8197\n",
      "Step [100/127], Loss: 3.0877, Perplexity: 21.9266\n",
      "updated best val loss: 3.0786066\n",
      "Save model weights to... /content/drive/My Drive/DL_Fall_2020/Assignment_4//checkpoints/rnn/\n",
      "Switch to training...\n",
      "Epoch [32/50], Step [0/114], Loss: 2.7573, Perplexity: 15.7567\n",
      "Epoch [32/50], Step [50/114], Loss: 2.7758, Perplexity: 16.0509\n",
      "Epoch [32/50], Step [100/114], Loss: 2.7337, Perplexity: 15.3891\n",
      "Validating...\n",
      "Step [0/127], Loss: 2.9309, Perplexity: 18.7452\n",
      "Step [50/127], Loss: 2.6984, Perplexity: 14.8566\n",
      "Step [100/127], Loss: 2.7147, Perplexity: 15.0994\n",
      "updated best val loss: 3.0739086\n",
      "Save model weights to... /content/drive/My Drive/DL_Fall_2020/Assignment_4//checkpoints/rnn/\n",
      "Switch to training...\n",
      "Epoch [33/50], Step [0/114], Loss: 2.6924, Perplexity: 14.7665\n",
      "Epoch [33/50], Step [50/114], Loss: 2.6842, Perplexity: 14.6465\n",
      "Epoch [33/50], Step [100/114], Loss: 2.7517, Perplexity: 15.6693\n",
      "Validating...\n",
      "Step [0/127], Loss: 3.0706, Perplexity: 21.5552\n",
      "Step [50/127], Loss: 3.4180, Perplexity: 30.5080\n",
      "Step [100/127], Loss: 3.1357, Perplexity: 23.0044\n",
      "Switch to training...\n",
      "Epoch [34/50], Step [0/114], Loss: 2.7328, Perplexity: 15.3763\n",
      "Epoch [34/50], Step [50/114], Loss: 2.7304, Perplexity: 15.3385\n",
      "Epoch [34/50], Step [100/114], Loss: 2.7057, Perplexity: 14.9653\n",
      "Validating...\n",
      "Step [0/127], Loss: 2.4467, Perplexity: 11.5501\n",
      "Step [50/127], Loss: 3.1510, Perplexity: 23.3600\n",
      "Step [100/127], Loss: 3.4708, Perplexity: 32.1611\n",
      "Switch to training...\n",
      "Epoch [35/50], Step [0/114], Loss: 2.7460, Perplexity: 15.5803\n",
      "Epoch [35/50], Step [50/114], Loss: 2.6838, Perplexity: 14.6399\n",
      "Epoch [35/50], Step [100/114], Loss: 2.6983, Perplexity: 14.8540\n",
      "Validating...\n",
      "Step [0/127], Loss: 3.2312, Perplexity: 25.3112\n",
      "Step [50/127], Loss: 3.2940, Perplexity: 26.9516\n",
      "Step [100/127], Loss: 3.1166, Perplexity: 22.5686\n",
      "Switch to training...\n",
      "Epoch [36/50], Step [0/114], Loss: 2.7054, Perplexity: 14.9602\n",
      "Epoch [36/50], Step [50/114], Loss: 2.6645, Perplexity: 14.3609\n",
      "Epoch [36/50], Step [100/114], Loss: 2.7234, Perplexity: 15.2321\n",
      "Validating...\n",
      "Step [0/127], Loss: 3.1796, Perplexity: 24.0378\n",
      "Step [50/127], Loss: 3.3522, Perplexity: 28.5665\n",
      "Step [100/127], Loss: 2.9762, Perplexity: 19.6124\n",
      "updated best val loss: 3.0555222\n",
      "Save model weights to... /content/drive/My Drive/DL_Fall_2020/Assignment_4//checkpoints/rnn/\n",
      "Switch to training...\n",
      "Epoch [37/50], Step [0/114], Loss: 2.7093, Perplexity: 15.0185\n",
      "Epoch [37/50], Step [50/114], Loss: 2.6796, Perplexity: 14.5794\n",
      "Epoch [37/50], Step [100/114], Loss: 2.7646, Perplexity: 15.8721\n",
      "Validating...\n",
      "Step [0/127], Loss: 3.2223, Perplexity: 25.0862\n",
      "Step [50/127], Loss: 3.3538, Perplexity: 28.6113\n",
      "Step [100/127], Loss: 3.1137, Perplexity: 22.5042\n",
      "updated best val loss: 3.0338142\n",
      "Save model weights to... /content/drive/My Drive/DL_Fall_2020/Assignment_4//checkpoints/rnn/\n",
      "Switch to training...\n",
      "Epoch [38/50], Step [0/114], Loss: 2.6635, Perplexity: 14.3458\n",
      "Epoch [38/50], Step [50/114], Loss: 2.6480, Perplexity: 14.1263\n",
      "Epoch [38/50], Step [100/114], Loss: 2.7356, Perplexity: 15.4190\n",
      "Validating...\n",
      "Step [0/127], Loss: 3.6380, Perplexity: 38.0149\n",
      "Step [50/127], Loss: 3.0340, Perplexity: 20.7803\n",
      "Step [100/127], Loss: 2.8302, Perplexity: 16.9482\n",
      "Switch to training...\n",
      "Epoch [39/50], Step [0/114], Loss: 2.7064, Perplexity: 14.9756\n",
      "Epoch [39/50], Step [50/114], Loss: 2.7175, Perplexity: 15.1431\n",
      "Epoch [39/50], Step [100/114], Loss: 2.6714, Perplexity: 14.4599\n",
      "Validating...\n",
      "Step [0/127], Loss: 2.8229, Perplexity: 16.8255\n",
      "Step [50/127], Loss: 3.5700, Perplexity: 35.5159\n",
      "Step [100/127], Loss: 2.3333, Perplexity: 10.3115\n",
      "Switch to training...\n",
      "Epoch [40/50], Step [0/114], Loss: 2.7785, Perplexity: 16.0944\n",
      "Epoch [40/50], Step [50/114], Loss: 2.7089, Perplexity: 15.0129\n",
      "Epoch [40/50], Step [100/114], Loss: 2.6992, Perplexity: 14.8675\n",
      "Validating...\n",
      "Step [0/127], Loss: 3.3639, Perplexity: 28.9024\n",
      "Step [50/127], Loss: 3.2792, Perplexity: 26.5536\n",
      "Step [100/127], Loss: 2.7265, Perplexity: 15.2794\n",
      "Switch to training...\n",
      "Epoch [41/50], Step [0/114], Loss: 2.6314, Perplexity: 13.8930\n",
      "Epoch [41/50], Step [50/114], Loss: 2.7013, Perplexity: 14.8986\n",
      "Epoch [41/50], Step [100/114], Loss: 2.6694, Perplexity: 14.4316\n",
      "Validating...\n",
      "Step [0/127], Loss: 3.2602, Perplexity: 26.0554\n",
      "Step [50/127], Loss: 3.3352, Perplexity: 28.0826\n",
      "Step [100/127], Loss: 2.2949, Perplexity: 9.9233\n",
      "Switch to training...\n",
      "Epoch [42/50], Step [0/114], Loss: 2.7416, Perplexity: 15.5121\n",
      "Epoch [42/50], Step [50/114], Loss: 2.7568, Perplexity: 15.7499\n",
      "Epoch [42/50], Step [100/114], Loss: 2.7044, Perplexity: 14.9450\n",
      "Validating...\n",
      "Step [0/127], Loss: 2.7080, Perplexity: 14.9994\n",
      "Step [50/127], Loss: 3.0136, Perplexity: 20.3613\n",
      "Step [100/127], Loss: 2.8440, Perplexity: 17.1848\n",
      "Switch to training...\n",
      "Epoch [43/50], Step [0/114], Loss: 2.6606, Perplexity: 14.3049\n",
      "Epoch [43/50], Step [50/114], Loss: 2.7025, Perplexity: 14.9176\n",
      "Epoch [43/50], Step [100/114], Loss: 2.7040, Perplexity: 14.9392\n",
      "Validating...\n",
      "Step [0/127], Loss: 2.6865, Perplexity: 14.6809\n",
      "Step [50/127], Loss: 2.8935, Perplexity: 18.0558\n",
      "Step [100/127], Loss: 3.5299, Perplexity: 34.1204\n",
      "Switch to training...\n",
      "Epoch [44/50], Step [0/114], Loss: 2.7198, Perplexity: 15.1773\n",
      "Epoch [44/50], Step [50/114], Loss: 2.6694, Perplexity: 14.4309\n",
      "Epoch [44/50], Step [100/114], Loss: 2.6917, Perplexity: 14.7562\n",
      "Validating...\n",
      "Step [0/127], Loss: 3.5362, Perplexity: 34.3371\n",
      "Step [50/127], Loss: 2.9185, Perplexity: 18.5131\n",
      "Step [100/127], Loss: 3.1682, Perplexity: 23.7638\n",
      "Switch to training...\n",
      "Epoch [45/50], Step [0/114], Loss: 2.7275, Perplexity: 15.2941\n",
      "Epoch [45/50], Step [50/114], Loss: 2.6548, Perplexity: 14.2227\n",
      "Epoch [45/50], Step [100/114], Loss: 2.6432, Perplexity: 14.0579\n",
      "Validating...\n",
      "Step [0/127], Loss: 2.9000, Perplexity: 18.1741\n",
      "Step [50/127], Loss: 3.3191, Perplexity: 27.6350\n",
      "Step [100/127], Loss: 2.6703, Perplexity: 14.4442\n",
      "Switch to training...\n",
      "Epoch [46/50], Step [0/114], Loss: 2.7109, Perplexity: 15.0433\n",
      "Epoch [46/50], Step [50/114], Loss: 2.6500, Perplexity: 14.1541\n",
      "Epoch [46/50], Step [100/114], Loss: 2.6803, Perplexity: 14.5891\n",
      "Validating...\n",
      "Step [0/127], Loss: 2.6601, Perplexity: 14.2979\n",
      "Step [50/127], Loss: 3.1116, Perplexity: 22.4563\n",
      "Step [100/127], Loss: 2.6948, Perplexity: 14.8028\n",
      "Switch to training...\n",
      "Epoch [47/50], Step [0/114], Loss: 2.7128, Perplexity: 15.0707\n",
      "Epoch [47/50], Step [50/114], Loss: 2.6992, Perplexity: 14.8678\n",
      "Epoch [47/50], Step [100/114], Loss: 2.6624, Perplexity: 14.3307\n",
      "Validating...\n",
      "Step [0/127], Loss: 3.0756, Perplexity: 21.6632\n",
      "Step [50/127], Loss: 3.0773, Perplexity: 21.6992\n",
      "Step [100/127], Loss: 3.0054, Perplexity: 20.1944\n",
      "Switch to training...\n",
      "Epoch [48/50], Step [0/114], Loss: 2.7071, Perplexity: 14.9862\n",
      "Epoch [48/50], Step [50/114], Loss: 2.6989, Perplexity: 14.8638\n",
      "Epoch [48/50], Step [100/114], Loss: 2.6767, Perplexity: 14.5367\n",
      "Validating...\n",
      "Step [0/127], Loss: 2.6723, Perplexity: 14.4732\n",
      "Step [50/127], Loss: 3.6487, Perplexity: 38.4243\n",
      "Step [100/127], Loss: 2.6153, Perplexity: 13.6710\n",
      "Switch to training...\n",
      "Epoch [49/50], Step [0/114], Loss: 2.7690, Perplexity: 15.9430\n",
      "Epoch [49/50], Step [50/114], Loss: 2.6843, Perplexity: 14.6483\n",
      "Epoch [49/50], Step [100/114], Loss: 2.7445, Perplexity: 15.5571\n",
      "Validating...\n",
      "Step [0/127], Loss: 3.1198, Perplexity: 22.6411\n",
      "Step [50/127], Loss: 2.4572, Perplexity: 11.6720\n",
      "Step [100/127], Loss: 2.6777, Perplexity: 14.5512\n",
      "It took: 13283.415540456772 s\n"
     ]
    }
   ],
   "source": [
    "# Training code here\n",
    "\n",
    "\n",
    "train_data_loader = get_loader(root=path_to_homework + '/flickr30k_images/', split='train', vocab=vocab, \n",
    "                               transform=transform, batch_size=batch_size, shuffle=True, num_workers=4)\n",
    "val_data_loader = get_loader(root=path_to_homework + '/flickr30k_images/', split='val', vocab=vocab, \n",
    "                               transform=transform, batch_size=8, shuffle=True, num_workers=4)\n",
    "\n",
    "model = Vanilla_rnn(vocab_size=len(vocab), emb_dim=emb_dim, hidden_dim=hidden_dim, \n",
    "                   num_layers=1, dropout=dropout).to(device)    # build a model\n",
    "\n",
    "# loss and optimizer\n",
    "criterion = nn.CrossEntropyLoss()  # CE loss\n",
    "optimizer = torch.optim.Adam(model.parameters(), lr=lr, weight_decay=weight_decay)  # optimizer\n",
    "scheduler = torch.optim.lr_scheduler.StepLR(optimizer, \n",
    "                                      step_size=5,\n",
    "                                      gamma=0.5)  # decay LR by a factor of 0.5 every 10 epochs. You can change this\n",
    "\n",
    "# logs\n",
    "Train_Losses = []  # record average training loss each epoch\n",
    "Val_Losses = []   # record average validation loss each epoch\n",
    "total_step = len(train_data_loader)  # number of iterations each epoch\n",
    "best_val_loss = np.inf\n",
    "\n",
    "# start training\n",
    "print('Start training...')\n",
    "import time\n",
    "tic = time.time()\n",
    "for epoch in range(num_epochs):\n",
    "    print('Switch to training...')\n",
    "    model.train()\n",
    "    Train_loss_iter = []  # record the the training loss each iteration\n",
    "    for itr, (images, captions, lengths) in enumerate(train_data_loader):\n",
    "        ########Your Code###########\n",
    "        # train your model\n",
    "        #images, captions = train_data_loader['image'], train_data_loader['caption']\n",
    "        #images = images.type(torch.FloatTensor)\n",
    "        images = images.to(device)\n",
    "        captions = captions.to(device)\n",
    "            \n",
    "        #features = Encoder(images)\n",
    "        #outputs = Decoder(features, captions, lengths)\n",
    "        \n",
    "        targets = pack_padded_sequence(captions, lengths,batch_first = True)[0].to(device)\n",
    "        optimizer.zero_grad()\n",
    "\n",
    "        outputs = model(images, captions, lengths)\n",
    "         \n",
    "        criterion = nn.CrossEntropyLoss()\n",
    "        loss = criterion(outputs,targets)\n",
    "        \n",
    "        loss.backward()\n",
    "        optimizer.step()\n",
    "        \n",
    "\n",
    "        # record the training loss\n",
    "        \n",
    "        #step += 1\n",
    "        # print log info\n",
    "        if itr % log_step == 0:\n",
    "            # print current loss and perplexity\n",
    "            print('Epoch [{}/{}], Step [{}/{}], Loss: {:.4f}, Perplexity: {:5.4f}'\n",
    "                      .format(epoch, num_epochs, itr, total_step, loss.item(), np.exp(loss.item())))\n",
    "    scheduler.step()\n",
    "    Train_Losses.append(np.mean(Train_loss_iter))\n",
    "    np.save(os.path.join(output_dir, 'TrainingLoss_rnn.npy'), Train_Losses)  # save the training loss\n",
    "    \n",
    "    model.eval()\n",
    "    # (optional) generate a sample during the training, you can use deterministic mode\n",
    "    # Your code\n",
    "    \n",
    "    \n",
    "    # validation\n",
    "    Val_Losses.append(val(model, val_data_loader, vocab))\n",
    "    np.save(os.path.join(output_dir, 'ValLoss_rnn.npy'), Val_Losses) # save the val loss\n",
    "    \n",
    "    # save model\n",
    "    if Val_Losses[-1] < best_val_loss:\n",
    "        best_val_loss = Val_Losses[-1]\n",
    "        print('updated best val loss:', best_val_loss)\n",
    "        print('Save model weights to...', output_dir)\n",
    "        torch.save(model.state_dict(), \n",
    "                   os.path.join(output_dir, 'vanilla_rnn-best.pth'.format(epoch + 1, itr + 1)))\n",
    "\n",
    "print('It took: {} s'.format(time.time() - tic))"
   ]
  },
  {
   "cell_type": "markdown",
   "metadata": {
    "id": "Tzd6b5f1J3tN"
   },
   "source": [
    "# Section 2.4 Evaluation [10 pts]"
   ]
  },
  {
   "cell_type": "code",
   "execution_count": null,
   "metadata": {
    "id": "RoJLVfUnJ3tN"
   },
   "outputs": [],
   "source": [
    "## evaluation code\n",
    "from tqdm import tqdm, tqdm_notebook\n",
    "from nltk.translate.bleu_score import sentence_bleu\n",
    "from nltk.translate.bleu_score import SmoothingFunction\n",
    "smoother = SmoothingFunction()\n",
    "\n",
    "def caption_generator(model, images, vocab, img_ids, captions, mode='Deterministic', temperature=1.0):\n",
    "    \"\"\"\n",
    "    Generate captions.\n",
    "    :param mode:\n",
    "    :return:\n",
    "    \"\"\"\n",
    "    sample_idxs = model.sample_generate(images, mode=mode,\n",
    "                                        temperature=temperature).data.cpu().numpy()  # [N, max_length]\n",
    "    for i, sentence in enumerate(sample_idxs):  # every sentence in this batch\n",
    "        sentence_caption = ''\n",
    "        for word_idx in sentence:\n",
    "            word = vocab.idx2word[word_idx]\n",
    "            if word != '<start>' and word != '<end>':\n",
    "                if word == '.':\n",
    "                    sentence_caption += '.'\n",
    "                else:\n",
    "                    sentence_caption += word + ' '\n",
    "            if word == '<end>':\n",
    "                break\n",
    "        captions.append({'caption': sentence_caption})\n",
    "        # captions.append(sentence_caption)\n",
    "\n",
    "    return captions\n",
    "\n",
    "def run_test(model, data_loader, vocab, mode='Deterministic', temperature=1.0):\n",
    "    \"\"\"\n",
    "    Run your model on the test set.\n",
    "    Inputs:\n",
    "    :param model: the model you use\n",
    "    :param data_loader: the data_loader\n",
    "    :param mode: use 'deterministic' or 'stochastic'\n",
    "    Outputs:\n",
    "    :param predictions\n",
    "    \"\"\"\n",
    "    predictions = []\n",
    "    for itr, (images, captions, lengths) in enumerate(tqdm(data_loader)):\n",
    "        images = Variable(images).to(device)\n",
    "        captions = Variable(captions).to(device)\n",
    "        outputs = model(images, captions, lengths)\n",
    "        \n",
    "        img_ids = list(range(itr * data_loader.batch_size, (itr + 1) * data_loader.batch_size))\n",
    "        predictions = caption_generator(model, images, vocab, img_ids, \n",
    "                                        predictions, mode=mode, temperature=temperature)\n",
    "        \n",
    "    return predictions\n",
    "\n",
    "def evaluation(model, vocab, data_path=path_to_homework + '/flickr30k_images/', mode='Deterministic', temperature=1.0,\n",
    "               split='test'):\n",
    "    \"\"\"\n",
    "    Evaluate the performance of your model on the test set using BLEU scores.\n",
    "    Inputs:\n",
    "    :param model: the model you use\n",
    "    :param weight_path: the directory to the weights of your model\n",
    "    :param vocab: vocabulary\n",
    "    :param data_path: the directory to the dataset\n",
    "    :param mode: use 'deterministic' or 'stochastic'\n",
    "    Outputs:\n",
    "    :param predictions\n",
    "    \"\"\"\n",
    "    # data loader\n",
    "    test_data_loader = get_loader(root=path_to_homework + '/flickr30k_images/', split=split, vocab=vocab, \n",
    "                                  transform=transform, batch_size=8, shuffle=False, num_workers=4)\n",
    "    \n",
    "    # run your model on the test set\n",
    "    print('Run on the test set...')\n",
    "    preds = run_test(model, test_data_loader, vocab, mode, temperature)\n",
    "    \n",
    "    # load the groundtruth\n",
    "    gt = test_data_loader.dataset.annos\n",
    "    \n",
    "    # evaluate the performance using BLEU score\n",
    "    score1 = 0\n",
    "    score2 = 0\n",
    "    score3 = 0\n",
    "    score4 = 0\n",
    "    \n",
    "    print('Computing BLEU')\n",
    "    for itr in tqdm(range(len(gt))):\n",
    "        candidate = preds[itr]['caption']\n",
    "        reference = [sent['raw'] for sent in gt[itr]['sentences']]\n",
    "        score1 += sentence_bleu(reference, candidate, weights=(1, 0, 0, 0), smoothing_function=smoother.method1)\n",
    "        score2 += sentence_bleu(reference, candidate, weights=(0, 1, 0, 0), smoothing_function=smoother.method1)\n",
    "        score3 += sentence_bleu(reference, candidate, weights=(0, 0, 1, 0), smoothing_function=smoother.method1)\n",
    "        score4 += sentence_bleu(reference, candidate, weights=(0, 0, 0, 1), smoothing_function=smoother.method1)\n",
    "    \n",
    "    bleu1 = 100 * score1/len(gt)\n",
    "    bleu2 = 100 * score2/len(gt)\n",
    "    bleu3 = 100 * score3/len(gt)\n",
    "    bleu4 = 100 * score4/len(gt)\n",
    "    \n",
    "    return bleu1, bleu2, bleu3, bleu4"
   ]
  },
  {
   "cell_type": "markdown",
   "metadata": {
    "id": "EkowZGdNJ3tP"
   },
   "source": [
    "- Test your outputs in the **Deterministic** way by using BLEU scores. You should at achieve a BLEU 4 of 25."
   ]
  },
  {
   "cell_type": "code",
   "execution_count": null,
   "metadata": {
    "colab": {
     "base_uri": "https://localhost:8080/"
    },
    "id": "1HgSR0bcJ3tQ",
    "outputId": "b00c9bc2-9d8a-42a3-ecb9-9ed83316dc72"
   },
   "outputs": [
    {
     "name": "stderr",
     "output_type": "stream",
     "text": [
      "\r",
      "  0%|          | 0/125 [00:00<?, ?it/s]"
     ]
    },
    {
     "name": "stdout",
     "output_type": "stream",
     "text": [
      "Run on the test set...\n"
     ]
    },
    {
     "name": "stderr",
     "output_type": "stream",
     "text": [
      "100%|██████████| 125/125 [01:03<00:00,  1.96it/s]\n",
      "  2%|▏         | 23/1000 [00:00<00:04, 220.41it/s]"
     ]
    },
    {
     "name": "stdout",
     "output_type": "stream",
     "text": [
      "Computing BLEU\n"
     ]
    },
    {
     "name": "stderr",
     "output_type": "stream",
     "text": [
      "100%|██████████| 1000/1000 [00:04<00:00, 232.33it/s]"
     ]
    },
    {
     "name": "stdout",
     "output_type": "stream",
     "text": [
      "BLEU 1:89.68767687069148, BLEU 2:63.75724619747129, BLEU 3:41.23849656594904, BLEU 4:27.7544551175118\n"
     ]
    },
    {
     "name": "stderr",
     "output_type": "stream",
     "text": [
      "\n"
     ]
    }
   ],
   "source": [
    "## Evaluate your model using BLEU score. Use Deterministic mode.\n",
    "\n",
    "## Image transformation\n",
    "transform = transforms.Compose([\n",
    "        transforms.Resize(256),\n",
    "        transforms.CenterCrop(224),\n",
    "        #     transforms.RandomCrop(224, pad_if_needed=True),\n",
    "        transforms.RandomHorizontalFlip(),\n",
    "        transforms.ToTensor(),\n",
    "        transforms.Normalize(mean=(0.485, 0.456, 0.406),\n",
    "                             std=(0.229, 0.224, 0.225))])\n",
    "\n",
    "## Evaluate your model using BLEU score. Use Deterministic mode\n",
    "model = Vanilla_rnn(vocab_size=len(vocab), emb_dim=emb_dim, hidden_dim=hidden_dim, \n",
    "                   num_layers=1, dropout=dropout).to(device)  # build a model\n",
    "model.load_state_dict(torch.load(path_to_homework + '/checkpoints/rnn/vanilla_rnn-best.pth', map_location=torch.device('cpu')))\n",
    "model.eval()\n",
    "bleu1, bleu2, bleu3, bleu4 = evaluation(model, vocab, mode='Deterministic')\n",
    "print(\"BLEU 1:{}, BLEU 2:{}, BLEU 3:{}, BLEU 4:{}\".format(bleu1, bleu2, bleu3, bleu4))"
   ]
  },
  {
   "cell_type": "markdown",
   "metadata": {
    "id": "9sNfz-UbJ3tR"
   },
   "source": [
    "- Try different temperatures (e.g. 0.1, 0.2, 0.5, 1.0, 1.5, 2, etc.) during the generation. Report BLEU scores for at least 3 different temperatures."
   ]
  },
  {
   "cell_type": "markdown",
   "metadata": {
    "id": "Il1JXgTCjiYi"
   },
   "source": [
    "BLEU score = 27.75 (for temperature = 1)"
   ]
  },
  {
   "cell_type": "code",
   "execution_count": null,
   "metadata": {
    "id": "Yxq9GS8dJ3tS"
   },
   "outputs": [],
   "source": [
    "## Use at least 3 different temperatures to generate captions on the test set. Report the BLEU scores.\n",
    "# Your code here\n",
    "#for temperature =[0.2,2,4]\n",
    "#temperature = 0.1\n",
    "\n",
    "\n",
    "bleu1, bleu2, bleu3, bleu4 = evaluation(model, vocab, mode ='Stochastic',temperature = 0.2)\n",
    "print(\"Temperature = 0.2/\")\n",
    "print(\"BLEU 1:{}, BLEU 2:{}, BLEU 3:{}, BLEU 4:{}\".format(bleu1, bleu2, bleu3, bleu4))\n",
    "\n",
    "\n",
    "\n",
    "\n",
    "# End of code"
   ]
  },
  {
   "cell_type": "markdown",
   "metadata": {
    "id": "ntCJ7a2tk6zA"
   },
   "source": [
    "            BLEU 4        \n"
   ]
  },
  {
   "cell_type": "code",
   "execution_count": null,
   "metadata": {
    "colab": {
     "base_uri": "https://localhost:8080/"
    },
    "id": "fwtRUToyXuE2",
    "outputId": "7b4105ad-59ef-4782-9f71-fb1cef7af931"
   },
   "outputs": [
    {
     "name": "stderr",
     "output_type": "stream",
     "text": [
      "\r",
      "  0%|          | 0/125 [00:00<?, ?it/s]"
     ]
    },
    {
     "name": "stdout",
     "output_type": "stream",
     "text": [
      "Run on the test set...\n"
     ]
    },
    {
     "name": "stderr",
     "output_type": "stream",
     "text": [
      "100%|██████████| 125/125 [00:12<00:00, 10.15it/s]\n",
      "  2%|▏         | 22/1000 [00:00<00:04, 217.09it/s]"
     ]
    },
    {
     "name": "stdout",
     "output_type": "stream",
     "text": [
      "Computing BLEU\n"
     ]
    },
    {
     "name": "stderr",
     "output_type": "stream",
     "text": [
      "100%|██████████| 1000/1000 [00:04<00:00, 231.92it/s]"
     ]
    },
    {
     "name": "stdout",
     "output_type": "stream",
     "text": [
      "Temperature = 2/\n",
      "BLEU 1:89.68767687069148, BLEU 2:63.75724619747129, BLEU 3:41.23849656594904, BLEU 4:27.7544551175118\n"
     ]
    },
    {
     "name": "stderr",
     "output_type": "stream",
     "text": [
      "\n"
     ]
    }
   ],
   "source": [
    "bleu1, bleu2, bleu3, bleu4 = evaluation(model, vocab, mode='Deterministic',temperature = 2)\n",
    "print(\"Temperature = 2/\")\n",
    "print(\"BLEU 1:{}, BLEU 2:{}, BLEU 3:{}, BLEU 4:{}\".format(bleu1, bleu2, bleu3, bleu4))"
   ]
  },
  {
   "cell_type": "code",
   "execution_count": null,
   "metadata": {
    "colab": {
     "base_uri": "https://localhost:8080/"
    },
    "id": "L9XbK3hEXuTG",
    "outputId": "e88e4061-4b02-4bd9-efdd-b8a949f08128"
   },
   "outputs": [
    {
     "name": "stderr",
     "output_type": "stream",
     "text": [
      "\r",
      "  0%|          | 0/125 [00:00<?, ?it/s]"
     ]
    },
    {
     "name": "stdout",
     "output_type": "stream",
     "text": [
      "Run on the test set...\n"
     ]
    },
    {
     "name": "stderr",
     "output_type": "stream",
     "text": [
      "100%|██████████| 125/125 [00:12<00:00, 10.18it/s]\n",
      "  2%|▏         | 23/1000 [00:00<00:04, 229.14it/s]"
     ]
    },
    {
     "name": "stdout",
     "output_type": "stream",
     "text": [
      "Computing BLEU\n"
     ]
    },
    {
     "name": "stderr",
     "output_type": "stream",
     "text": [
      "100%|██████████| 1000/1000 [00:04<00:00, 230.66it/s]"
     ]
    },
    {
     "name": "stdout",
     "output_type": "stream",
     "text": [
      "Temperature = 4\n",
      "BLEU 1:89.68767687069148, BLEU 2:63.75724619747129, BLEU 3:41.23849656594904, BLEU 4:27.7544551175118\n"
     ]
    },
    {
     "name": "stderr",
     "output_type": "stream",
     "text": [
      "\n"
     ]
    }
   ],
   "source": [
    "bleu1, bleu2, bleu3, bleu4 = evaluation(model, vocab, mode='Deterministic',temperature = 4)\n",
    "print(\"Temperature = 4\")\n",
    "print(\"BLEU 1:{}, BLEU 2:{}, BLEU 3:{}, BLEU 4:{}\".format(bleu1, bleu2, bleu3, bleu4))"
   ]
  },
  {
   "cell_type": "markdown",
   "metadata": {
    "id": "QNXcVjlXJ3tU"
   },
   "source": [
    "# Section 3 Variations [55 pts]\n",
    "## Section 3.1 LSTM [35 pts]\n",
    "## Section 3.1.1 Decoder: LSTM [5 pts]\n",
    "This time, replace the RNN module with an LSTM module."
   ]
  },
  {
   "cell_type": "code",
   "execution_count": null,
   "metadata": {
    "id": "kXSx3sMGdb-4"
   },
   "outputs": [],
   "source": []
  },
  {
   "cell_type": "code",
   "execution_count": 49,
   "metadata": {
    "id": "N7daZ1H9J3tU"
   },
   "outputs": [],
   "source": [
    "class Decoder(nn.Module):\n",
    "    def __init__(self, vocab_size, emb_dim, hidden_dim, num_layers=1, dropout=0):\n",
    "        \"\"\"\n",
    "        Use LSTM as decoder for captions.\n",
    "        :param emb_dim: Embedding dimensions.\n",
    "        :param hidden_dim: Hidden states dimensions.\n",
    "        :param num_layers: Number of LSTM layers.\n",
    "        :param vocab_size: The size of Vocabulary.\n",
    "        :param dropout: dropout probability\n",
    "        \"\"\"\n",
    "        super(Decoder, self).__init__()\n",
    "\n",
    "        self.emb_dim = emb_dim\n",
    "        self.hidden_dim = hidden_dim\n",
    "        self.vocab_size = vocab_size\n",
    "        #############Your code############\n",
    "        # you need to implement a LSTM for the decoder. Take a look at the official documentation.\n",
    "        # https://pytorch.org/docs/stable/generated/torch.nn.LSTM.html#torch.nn.LSTM\n",
    "        \n",
    "        # one-hot encoding + linear layer\n",
    "        \n",
    "        # LSTM network\n",
    "        \n",
    "        # output layer\n",
    "                \n",
    "               \n",
    "                \n",
    "        # Our embedding layer\n",
    "        self.word_embeddings = nn.Embedding(vocab_size, emb_dim)\n",
    "        \n",
    "        self.lstm = nn.LSTM(emb_dim,hidden_dim, num_layers, batch_first=True)\n",
    "        \n",
    "        # The linear layer maps the hidden state output of the LSTM to the number of words we want:\n",
    "        \n",
    "        self.linear = nn.Linear(self.hidden_dim, vocab_size)\n",
    "    def forward(self, encode_features, captions, lengths):\n",
    "        \"\"\"\n",
    "        Feed forward to generate captions.\n",
    "        :param encode_features: output of encoder, size [N, emb_dim]\n",
    "        :param captions: captions, size [N, max(lengths)]\n",
    "        :param lengths: a list indicating valid length for each caption. length is (batch_size).\n",
    "        \"\"\"\n",
    "        #############Your Code###################\n",
    "        # compute the embedding using one-hot technique and linear function\n",
    "        \n",
    "        # concatenate the encoded features from encoder and embeddings\n",
    "                \n",
    "        # feed into RNN\n",
    "        \n",
    "        # output layer\n",
    "        \n",
    "        embeddings = self.word_embeddings(captions)\n",
    "        \n",
    "        # Stack the features and captions\n",
    "        embeddings = torch.cat((encode_features.unsqueeze(1), embeddings), dim=1) \n",
    "        packed = pack_padded_sequence(embeddings, lengths, batch_first = True)\n",
    "\n",
    "       # rnn_out, self.hidden = self.rnn(embeddings, self.hidden) \n",
    "        lstm_out ,hidden = self.lstm(packed)\n",
    "        \n",
    "        #out = self.linear(rnn_out)\n",
    "        \n",
    "        #outputs = out[:, :-1]\n",
    "           \n",
    "        outputs = self.linear(lstm_out[0])\n",
    "\n",
    "        return outputs"
   ]
  },
  {
   "cell_type": "markdown",
   "metadata": {
    "id": "xT9PgN9GJ3tY"
   },
   "source": [
    "## Encoder-Decoder [5 pts]"
   ]
  },
  {
   "cell_type": "code",
   "execution_count": 58,
   "metadata": {
    "id": "IVwhTUvmJ3tZ"
   },
   "outputs": [],
   "source": [
    "class LSTM(nn.Module):\n",
    "    def __init__(self, vocab_size, emb_dim, hidden_dim, num_layers=1, dropout=0):\n",
    "        \"\"\"\n",
    "        Encoder-decoder vanilla RNN.\n",
    "        :param vocab_size: the size of Vocabulary.\n",
    "        :param emb_dim: the dimensions of word embedding.\n",
    "        :param hidden_dim: the dimensions of hidden units.\n",
    "        :param num_layers: the number of RNN layers.\n",
    "        \"\"\"\n",
    "        super(LSTM, self).__init__()\n",
    "       \n",
    "        #########Your Code################\n",
    "        # Encoder: ResNet-50\n",
    "     \n",
    "        # Decoder: LSTM\n",
    "\n",
    "        \n",
    "        #self.max_length = self.Decoder.max_length\n",
    "        #########Your Code################\n",
    "        # Encoder: ResNet-50\n",
    "        self.Encoder = Encoder(emb_dim)\n",
    "        # Decoder: LSTM\n",
    "        self.Decoder = Decoder(vocab_size, emb_dim, hidden_dim, num_layers)\n",
    "        self.soft = nn.Softmax(dim = 1)\n",
    "        #self.max_length = self.Decoder.max_length\n",
    "        self.max_length = 30\n",
    "\n",
    "    def forward(self, x, captions, lengths):\n",
    "        \"\"\"\n",
    "        Feed forward.\n",
    "        :param x: Images, [N, 3, H, W]\n",
    "        :param captions: encoded captions, [N, max(lengths)]\n",
    "        :param lengths: a list indicating valid length for each caption. length is (batch_size).\n",
    "        :return: output logits, usually followed by a softmax layer.\n",
    "        \"\"\"\n",
    "        ##########Your code###################\n",
    "        # forward passing\n",
    "        features = self.Encoder(x)\n",
    "        outputs = self.Decoder(features, captions,  lengths)\n",
    "        return outputs\n",
    "\n",
    "    def sample_generate(self, x, states=None, mode='Deterministic', temperature=5.0):\n",
    "        \"\"\"\n",
    "        Generate samples during the evaluation.\n",
    "        \n",
    "        :param x: input image\n",
    "        :param states: rnn states\n",
    "        :param mode: which mode we use.  \n",
    "         - 'Deterministic': Take the maximum output at each step.\n",
    "         - 'Stochastic': Sample from the probability distribution from the output layer.\n",
    "        :param temperature: will be used in the stochastic mode\n",
    "        :return: sample_idxs. Word indices. We can use vocab to recover the sentence.\n",
    "        \"\"\"\n",
    "        #sample_idxs = []\n",
    "        #################Your Code##################\n",
    "        # compute the encoded features\n",
    "        \n",
    "        # decide which mode we use\n",
    "        #if mode == 'Deterministic':\n",
    "            \n",
    "        #elif mode == 'Stochastic':\n",
    "\n",
    "        sample_idxs = []  # record the index of your generated words\n",
    "        #################Your Code##################\n",
    "        # compute the encoded features\n",
    "        features = self.Encoder(x).unsqueeze(1)\n",
    "        # decide which mode we use\n",
    "        if mode == 'Deterministic':\n",
    "            # take the maximum index after the softmax\n",
    "           for itr in range(self.max_length):\n",
    "               hiddens, states = self.Decoder.lstm(features, states)\n",
    "               outputs = self.Decoder.linear(hiddens.squeeze(1))\n",
    "               predicted = outputs.max(1)[1]\n",
    "               \n",
    "               sample_idxs.append(predicted)\n",
    "               features = self.Decoder.word_embeddings(predicted).unsqueeze(1)\n",
    "           sample_idxs = torch.stack(sample_idxs,dim =1)\n",
    "\n",
    "        elif mode == 'Stochastic':\n",
    "            # sample from the probability distribution after the softmax\n",
    "            # Hint: use torch.multinomial() to sample from a distribution.\n",
    "            for itr in range(self.max_length):\n",
    "                hiddens, states = self.Decoder.lstm(features, states)\n",
    "                outputs = self.Decoder.linear(hiddens.squeeze(1))\n",
    "                probs = F.softmax(outputs.div(temperature), dim = 1)\n",
    "                predicted = torch.multinomial(probs.data,1)\n",
    "                sample_idxs.append(predicted[:,0])\n",
    "                inputs = self.Decoder.word_embeddings(predicted[:,0].unsqueeze(1))\n",
    "            sample_idxs = torch.stack(sample_idxs,dim =1)\n",
    "        \n",
    "        return sample_idxs"
   ]
  },
  {
   "cell_type": "markdown",
   "metadata": {
    "id": "E-NYm9SoJ3tb"
   },
   "source": [
    "## Section 3.1.2 Training [10 pts]\n",
    "Use the same set of hyper-parameters (hidden units, optimizer, learning rate etc.) for both models."
   ]
  },
  {
   "cell_type": "code",
   "execution_count": 51,
   "metadata": {
    "id": "30YqoW1rJ3tb"
   },
   "outputs": [],
   "source": [
    "# some hyperparameters, you can change them\n",
    "## training parameters\n",
    "batch_size = 256\n",
    "lr = 1e-2\n",
    "num_epochs = 50\n",
    "weight_decay = 0.0\n",
    "log_step = 50\n",
    "\n",
    "## network architecture\n",
    "emb_dim = 1024\n",
    "hidden_dim = 256\n",
    "num_layers = 1 # number of RNN layers\n",
    "dropout = 0.0\n",
    "\n",
    "## image transformation\n",
    "transform = transforms.Compose([\n",
    "        transforms.Resize(256),\n",
    "        transforms.CenterCrop(224),\n",
    "        #     transforms.RandomCrop(224, pad_if_needed=True),\n",
    "        transforms.RandomHorizontalFlip(),\n",
    "        transforms.ToTensor(),\n",
    "        transforms.Normalize(mean=(0.485, 0.456, 0.406),\n",
    "                             std=(0.229, 0.224, 0.225))])\n",
    "\n",
    "## Output directory\n",
    "output_dir = path_to_homework + '/checkpoints/lstm/'\n",
    "os.makedirs(output_dir, exist_ok=True)"
   ]
  },
  {
   "cell_type": "code",
   "execution_count": 54,
   "metadata": {
    "colab": {
     "base_uri": "https://localhost:8080/"
    },
    "id": "TmHeBgZnJ3td",
    "outputId": "fab3880f-9265-4567-d7cf-547afb89a549"
   },
   "outputs": [
    {
     "name": "stdout",
     "output_type": "stream",
     "text": [
      "Start training...\n",
      "Switch to training...\n",
      "Epoch [0/50], Step [0/114], Loss: 9.2012, Perplexity: 9908.7435\n",
      "Epoch [0/50], Step [50/114], Loss: 3.5707, Perplexity: 35.5410\n",
      "Epoch [0/50], Step [100/114], Loss: 3.3776, Perplexity: 29.3010\n",
      "Validating...\n"
     ]
    },
    {
     "name": "stderr",
     "output_type": "stream",
     "text": [
      "/usr/local/lib/python3.6/dist-packages/numpy/core/fromnumeric.py:3335: RuntimeWarning: Mean of empty slice.\n",
      "  out=out, **kwargs)\n",
      "/usr/local/lib/python3.6/dist-packages/numpy/core/_methods.py:161: RuntimeWarning: invalid value encountered in double_scalars\n",
      "  ret = ret.dtype.type(ret / rcount)\n"
     ]
    },
    {
     "name": "stdout",
     "output_type": "stream",
     "text": [
      "Step [0/127], Loss: 3.1515, Perplexity: 23.3708\n",
      "Step [50/127], Loss: 3.6116, Perplexity: 37.0238\n",
      "Step [100/127], Loss: 2.9046, Perplexity: 18.2575\n",
      "updated best val loss: 3.343729\n",
      "Save model weights to... /content/drive/My Drive/DL_Fall_2020/Assignment_4//checkpoints/lstm/\n",
      "Switch to training...\n",
      "Epoch [1/50], Step [0/114], Loss: 3.2785, Perplexity: 26.5358\n",
      "Epoch [1/50], Step [50/114], Loss: 3.2616, Perplexity: 26.0904\n",
      "Epoch [1/50], Step [100/114], Loss: 3.2859, Perplexity: 26.7342\n",
      "Validating...\n",
      "Step [0/127], Loss: 3.2222, Perplexity: 25.0833\n",
      "Step [50/127], Loss: 3.4685, Perplexity: 32.0885\n",
      "Step [100/127], Loss: 3.1221, Perplexity: 22.6939\n",
      "updated best val loss: 3.2487226\n",
      "Save model weights to... /content/drive/My Drive/DL_Fall_2020/Assignment_4//checkpoints/lstm/\n",
      "Switch to training...\n",
      "Epoch [2/50], Step [0/114], Loss: 3.0921, Perplexity: 22.0228\n",
      "Epoch [2/50], Step [50/114], Loss: 3.1330, Perplexity: 22.9431\n",
      "Epoch [2/50], Step [100/114], Loss: 3.2399, Perplexity: 25.5303\n",
      "Validating...\n",
      "Step [0/127], Loss: 3.7698, Perplexity: 43.3721\n",
      "Step [50/127], Loss: 2.8076, Perplexity: 16.5706\n",
      "Step [100/127], Loss: 3.3785, Perplexity: 29.3261\n",
      "updated best val loss: 3.213421\n",
      "Save model weights to... /content/drive/My Drive/DL_Fall_2020/Assignment_4//checkpoints/lstm/\n",
      "Switch to training...\n",
      "Epoch [3/50], Step [0/114], Loss: 3.0257, Perplexity: 20.6094\n",
      "Epoch [3/50], Step [50/114], Loss: 3.0943, Perplexity: 22.0709\n",
      "Epoch [3/50], Step [100/114], Loss: 3.1702, Perplexity: 23.8134\n",
      "Validating...\n",
      "Step [0/127], Loss: 3.6468, Perplexity: 38.3528\n",
      "Step [50/127], Loss: 3.4106, Perplexity: 30.2824\n",
      "Step [100/127], Loss: 2.9791, Perplexity: 19.6698\n",
      "updated best val loss: 3.1726742\n",
      "Save model weights to... /content/drive/My Drive/DL_Fall_2020/Assignment_4//checkpoints/lstm/\n",
      "Switch to training...\n",
      "Epoch [4/50], Step [0/114], Loss: 3.0116, Perplexity: 20.3191\n",
      "Epoch [4/50], Step [50/114], Loss: 2.9786, Perplexity: 19.6607\n",
      "Epoch [4/50], Step [100/114], Loss: 3.0570, Perplexity: 21.2627\n",
      "Validating...\n",
      "Step [0/127], Loss: 3.5796, Perplexity: 35.8599\n",
      "Step [50/127], Loss: 3.4099, Perplexity: 30.2618\n",
      "Step [100/127], Loss: 3.4121, Perplexity: 30.3300\n",
      "updated best val loss: 3.0967019\n",
      "Save model weights to... /content/drive/My Drive/DL_Fall_2020/Assignment_4//checkpoints/lstm/\n",
      "Switch to training...\n",
      "Epoch [5/50], Step [0/114], Loss: 2.9795, Perplexity: 19.6772\n",
      "Epoch [5/50], Step [50/114], Loss: 2.9546, Perplexity: 19.1949\n",
      "Epoch [5/50], Step [100/114], Loss: 2.9017, Perplexity: 18.2045\n",
      "Validating...\n",
      "Step [0/127], Loss: 3.3697, Perplexity: 29.0686\n",
      "Step [50/127], Loss: 3.1191, Perplexity: 22.6254\n",
      "Step [100/127], Loss: 2.9370, Perplexity: 18.8591\n",
      "Switch to training...\n",
      "Epoch [6/50], Step [0/114], Loss: 2.9306, Perplexity: 18.7394\n",
      "Epoch [6/50], Step [50/114], Loss: 2.8279, Perplexity: 16.9092\n",
      "Epoch [6/50], Step [100/114], Loss: 2.8784, Perplexity: 17.7856\n",
      "Validating...\n",
      "Step [0/127], Loss: 3.6774, Perplexity: 39.5436\n",
      "Step [50/127], Loss: 2.8987, Perplexity: 18.1511\n",
      "Step [100/127], Loss: 3.2031, Perplexity: 24.6095\n",
      "updated best val loss: 3.0859594\n",
      "Save model weights to... /content/drive/My Drive/DL_Fall_2020/Assignment_4//checkpoints/lstm/\n",
      "Switch to training...\n",
      "Epoch [7/50], Step [0/114], Loss: 2.7907, Perplexity: 16.2929\n",
      "Epoch [7/50], Step [50/114], Loss: 2.8744, Perplexity: 17.7147\n",
      "Epoch [7/50], Step [100/114], Loss: 2.9135, Perplexity: 18.4213\n",
      "Validating...\n",
      "Step [0/127], Loss: 3.0691, Perplexity: 21.5220\n",
      "Step [50/127], Loss: 3.3034, Perplexity: 27.2059\n",
      "Step [100/127], Loss: 3.0227, Perplexity: 20.5461\n",
      "updated best val loss: 3.0509496\n",
      "Save model weights to... /content/drive/My Drive/DL_Fall_2020/Assignment_4//checkpoints/lstm/\n",
      "Switch to training...\n",
      "Epoch [8/50], Step [0/114], Loss: 2.7632, Perplexity: 15.8509\n",
      "Epoch [8/50], Step [50/114], Loss: 2.8500, Perplexity: 17.2881\n",
      "Epoch [8/50], Step [100/114], Loss: 2.9272, Perplexity: 18.6752\n",
      "Validating...\n",
      "Step [0/127], Loss: 2.7660, Perplexity: 15.8948\n",
      "Step [50/127], Loss: 3.0324, Perplexity: 20.7471\n",
      "Step [100/127], Loss: 3.0152, Perplexity: 20.3927\n",
      "updated best val loss: 3.0509107\n",
      "Save model weights to... /content/drive/My Drive/DL_Fall_2020/Assignment_4//checkpoints/lstm/\n",
      "Switch to training...\n",
      "Epoch [9/50], Step [0/114], Loss: 2.7767, Perplexity: 16.0658\n",
      "Epoch [9/50], Step [50/114], Loss: 2.8334, Perplexity: 17.0029\n",
      "Epoch [9/50], Step [100/114], Loss: 2.8087, Perplexity: 16.5888\n",
      "Validating...\n",
      "Step [0/127], Loss: 3.2237, Perplexity: 25.1200\n",
      "Step [50/127], Loss: 3.0704, Perplexity: 21.5505\n",
      "Step [100/127], Loss: 2.8432, Perplexity: 17.1714\n",
      "Switch to training...\n",
      "Epoch [10/50], Step [0/114], Loss: 2.7985, Perplexity: 16.4199\n",
      "Epoch [10/50], Step [50/114], Loss: 2.7486, Perplexity: 15.6203\n",
      "Epoch [10/50], Step [100/114], Loss: 2.7386, Perplexity: 15.4660\n",
      "Validating...\n",
      "Step [0/127], Loss: 2.9640, Perplexity: 19.3750\n",
      "Step [50/127], Loss: 2.8838, Perplexity: 17.8812\n",
      "Step [100/127], Loss: 2.9426, Perplexity: 18.9645\n",
      "updated best val loss: 3.017277\n",
      "Save model weights to... /content/drive/My Drive/DL_Fall_2020/Assignment_4//checkpoints/lstm/\n",
      "Switch to training...\n",
      "Epoch [11/50], Step [0/114], Loss: 2.7461, Perplexity: 15.5812\n",
      "Epoch [11/50], Step [50/114], Loss: 2.7084, Perplexity: 15.0051\n",
      "Epoch [11/50], Step [100/114], Loss: 2.6535, Perplexity: 14.2031\n",
      "Validating...\n",
      "Step [0/127], Loss: 3.2125, Perplexity: 24.8401\n",
      "Step [50/127], Loss: 3.5899, Perplexity: 36.2319\n",
      "Step [100/127], Loss: 3.4832, Perplexity: 32.5650\n",
      "Switch to training...\n",
      "Epoch [12/50], Step [0/114], Loss: 2.7813, Perplexity: 16.1397\n",
      "Epoch [12/50], Step [50/114], Loss: 2.7411, Perplexity: 15.5033\n",
      "Epoch [12/50], Step [100/114], Loss: 2.8277, Perplexity: 16.9069\n",
      "Validating...\n",
      "Step [0/127], Loss: 2.6617, Perplexity: 14.3213\n",
      "Step [50/127], Loss: 2.8165, Perplexity: 16.7186\n",
      "Step [100/127], Loss: 3.0073, Perplexity: 20.2327\n",
      "Switch to training...\n",
      "Epoch [13/50], Step [0/114], Loss: 2.6600, Perplexity: 14.2968\n",
      "Epoch [13/50], Step [50/114], Loss: 2.6670, Perplexity: 14.3963\n",
      "Epoch [13/50], Step [100/114], Loss: 2.6555, Perplexity: 14.2316\n",
      "Validating...\n",
      "Step [0/127], Loss: 2.9900, Perplexity: 19.8855\n",
      "Step [50/127], Loss: 2.8052, Perplexity: 16.5303\n",
      "Step [100/127], Loss: 3.3284, Perplexity: 27.8940\n",
      "Switch to training...\n",
      "Epoch [14/50], Step [0/114], Loss: 2.6669, Perplexity: 14.3951\n",
      "Epoch [14/50], Step [50/114], Loss: 2.6891, Perplexity: 14.7177\n",
      "Epoch [14/50], Step [100/114], Loss: 2.6901, Perplexity: 14.7333\n",
      "Validating...\n",
      "Step [0/127], Loss: 3.0896, Perplexity: 21.9676\n",
      "Step [50/127], Loss: 3.0792, Perplexity: 21.7411\n",
      "Step [100/127], Loss: 3.6711, Perplexity: 39.2940\n",
      "updated best val loss: 2.9846377\n",
      "Save model weights to... /content/drive/My Drive/DL_Fall_2020/Assignment_4//checkpoints/lstm/\n",
      "Switch to training...\n",
      "Epoch [15/50], Step [0/114], Loss: 2.6707, Perplexity: 14.4506\n",
      "Epoch [15/50], Step [50/114], Loss: 2.6287, Perplexity: 13.8563\n",
      "Epoch [15/50], Step [100/114], Loss: 2.6248, Perplexity: 13.8019\n",
      "Validating...\n",
      "Step [0/127], Loss: 2.8365, Perplexity: 17.0565\n",
      "Step [50/127], Loss: 3.1898, Perplexity: 24.2841\n",
      "Step [100/127], Loss: 2.9988, Perplexity: 20.0614\n",
      "Switch to training...\n",
      "Epoch [16/50], Step [0/114], Loss: 2.7066, Perplexity: 14.9783\n",
      "Epoch [16/50], Step [50/114], Loss: 2.6587, Perplexity: 14.2772\n",
      "Epoch [16/50], Step [100/114], Loss: 2.6420, Perplexity: 14.0407\n",
      "Validating...\n",
      "Step [0/127], Loss: 2.6338, Perplexity: 13.9269\n",
      "Step [50/127], Loss: 3.0899, Perplexity: 21.9748\n",
      "Step [100/127], Loss: 2.8826, Perplexity: 17.8602\n",
      "Switch to training...\n",
      "Epoch [17/50], Step [0/114], Loss: 2.5484, Perplexity: 12.7864\n",
      "Epoch [17/50], Step [50/114], Loss: 2.5339, Perplexity: 12.6023\n",
      "Epoch [17/50], Step [100/114], Loss: 2.6243, Perplexity: 13.7951\n",
      "Validating...\n",
      "Step [0/127], Loss: 2.8149, Perplexity: 16.6920\n",
      "Step [50/127], Loss: 2.6524, Perplexity: 14.1874\n",
      "Step [100/127], Loss: 2.8911, Perplexity: 18.0138\n",
      "Switch to training...\n",
      "Epoch [18/50], Step [0/114], Loss: 2.5974, Perplexity: 13.4285\n",
      "Epoch [18/50], Step [50/114], Loss: 2.6195, Perplexity: 13.7293\n",
      "Epoch [18/50], Step [100/114], Loss: 2.5813, Perplexity: 13.2143\n",
      "Validating...\n",
      "Step [0/127], Loss: 3.7547, Perplexity: 42.7224\n",
      "Step [50/127], Loss: 3.1289, Perplexity: 22.8485\n",
      "Step [100/127], Loss: 3.1724, Perplexity: 23.8641\n",
      "Switch to training...\n",
      "Epoch [19/50], Step [0/114], Loss: 2.6187, Perplexity: 13.7174\n",
      "Epoch [19/50], Step [50/114], Loss: 2.6063, Perplexity: 13.5487\n",
      "Epoch [19/50], Step [100/114], Loss: 2.5731, Perplexity: 13.1062\n",
      "Validating...\n",
      "Step [0/127], Loss: 2.5633, Perplexity: 12.9780\n",
      "Step [50/127], Loss: 2.9481, Perplexity: 19.0704\n",
      "Step [100/127], Loss: 3.2714, Perplexity: 26.3492\n",
      "Switch to training...\n",
      "Epoch [20/50], Step [0/114], Loss: 2.6352, Perplexity: 13.9468\n",
      "Epoch [20/50], Step [50/114], Loss: 2.5669, Perplexity: 13.0252\n",
      "Epoch [20/50], Step [100/114], Loss: 2.5742, Perplexity: 13.1206\n",
      "Validating...\n",
      "Step [0/127], Loss: 2.4830, Perplexity: 11.9770\n",
      "Step [50/127], Loss: 2.6867, Perplexity: 14.6832\n",
      "Step [100/127], Loss: 2.6972, Perplexity: 14.8381\n",
      "Switch to training...\n",
      "Epoch [21/50], Step [0/114], Loss: 2.5671, Perplexity: 13.0283\n",
      "Epoch [21/50], Step [50/114], Loss: 2.6267, Perplexity: 13.8277\n",
      "Epoch [21/50], Step [100/114], Loss: 2.5368, Perplexity: 12.6386\n",
      "Validating...\n",
      "Step [0/127], Loss: 3.3075, Perplexity: 27.3161\n",
      "Step [50/127], Loss: 3.4242, Perplexity: 30.6988\n",
      "Step [100/127], Loss: 2.8965, Perplexity: 18.1105\n",
      "Switch to training...\n",
      "Epoch [22/50], Step [0/114], Loss: 2.5719, Perplexity: 13.0912\n",
      "Epoch [22/50], Step [50/114], Loss: 2.5677, Perplexity: 13.0359\n",
      "Epoch [22/50], Step [100/114], Loss: 2.5258, Perplexity: 12.5008\n",
      "Validating...\n",
      "Step [0/127], Loss: 3.2204, Perplexity: 25.0390\n",
      "Step [50/127], Loss: 3.2232, Perplexity: 25.1092\n",
      "Step [100/127], Loss: 3.2739, Perplexity: 26.4137\n",
      "Switch to training...\n",
      "Epoch [23/50], Step [0/114], Loss: 2.5168, Perplexity: 12.3884\n",
      "Epoch [23/50], Step [50/114], Loss: 2.6310, Perplexity: 13.8879\n",
      "Epoch [23/50], Step [100/114], Loss: 2.5831, Perplexity: 13.2385\n",
      "Validating...\n",
      "Step [0/127], Loss: 3.2619, Perplexity: 26.0996\n",
      "Step [50/127], Loss: 3.3357, Perplexity: 28.0987\n",
      "Step [100/127], Loss: 3.0613, Perplexity: 21.3549\n",
      "Switch to training...\n",
      "Epoch [24/50], Step [0/114], Loss: 2.5766, Perplexity: 13.1526\n",
      "Epoch [24/50], Step [50/114], Loss: 2.6217, Perplexity: 13.7594\n",
      "Epoch [24/50], Step [100/114], Loss: 2.5345, Perplexity: 12.6097\n",
      "Validating...\n",
      "Step [0/127], Loss: 3.6068, Perplexity: 36.8463\n",
      "Step [50/127], Loss: 2.5977, Perplexity: 13.4332\n",
      "Step [100/127], Loss: 3.4088, Perplexity: 30.2287\n",
      "Switch to training...\n",
      "Epoch [25/50], Step [0/114], Loss: 2.5780, Perplexity: 13.1714\n",
      "Epoch [25/50], Step [50/114], Loss: 2.5625, Perplexity: 12.9677\n",
      "Epoch [25/50], Step [100/114], Loss: 2.4848, Perplexity: 11.9985\n",
      "Validating...\n",
      "Step [0/127], Loss: 3.8754, Perplexity: 48.2025\n",
      "Step [50/127], Loss: 3.0664, Perplexity: 21.4641\n",
      "Step [100/127], Loss: 2.8326, Perplexity: 16.9888\n",
      "Switch to training...\n",
      "Epoch [26/50], Step [0/114], Loss: 2.5204, Perplexity: 12.4331\n",
      "Epoch [26/50], Step [50/114], Loss: 2.6017, Perplexity: 13.4864\n",
      "Epoch [26/50], Step [100/114], Loss: 2.5827, Perplexity: 13.2328\n",
      "Validating...\n",
      "Step [0/127], Loss: 2.4978, Perplexity: 12.1563\n",
      "Step [50/127], Loss: 3.1248, Perplexity: 22.7554\n",
      "Step [100/127], Loss: 3.7498, Perplexity: 42.5109\n",
      "Switch to training...\n",
      "Epoch [27/50], Step [0/114], Loss: 2.5373, Perplexity: 12.6461\n",
      "Epoch [27/50], Step [50/114], Loss: 2.5649, Perplexity: 12.9992\n",
      "Epoch [27/50], Step [100/114], Loss: 2.4968, Perplexity: 12.1434\n",
      "Validating...\n",
      "Step [0/127], Loss: 3.5149, Perplexity: 33.6141\n",
      "Step [50/127], Loss: 2.8171, Perplexity: 16.7281\n",
      "Step [100/127], Loss: 3.2793, Perplexity: 26.5581\n",
      "Switch to training...\n",
      "Epoch [28/50], Step [0/114], Loss: 2.5322, Perplexity: 12.5815\n",
      "Epoch [28/50], Step [50/114], Loss: 2.5198, Perplexity: 12.4265\n",
      "Epoch [28/50], Step [100/114], Loss: 2.4702, Perplexity: 11.8250\n",
      "Validating...\n",
      "Step [0/127], Loss: 3.0301, Perplexity: 20.6993\n",
      "Step [50/127], Loss: 3.6816, Perplexity: 39.7082\n",
      "Step [100/127], Loss: 2.9253, Perplexity: 18.6400\n",
      "Switch to training...\n",
      "Epoch [29/50], Step [0/114], Loss: 2.5287, Perplexity: 12.5372\n",
      "Epoch [29/50], Step [50/114], Loss: 2.5506, Perplexity: 12.8144\n",
      "Epoch [29/50], Step [100/114], Loss: 2.5201, Perplexity: 12.4293\n",
      "Validating...\n",
      "Step [0/127], Loss: 2.9924, Perplexity: 19.9343\n",
      "Step [50/127], Loss: 3.1271, Perplexity: 22.8071\n",
      "Step [100/127], Loss: 3.1534, Perplexity: 23.4158\n",
      "Switch to training...\n",
      "Epoch [30/50], Step [0/114], Loss: 2.5165, Perplexity: 12.3849\n",
      "Epoch [30/50], Step [50/114], Loss: 2.5225, Perplexity: 12.4599\n",
      "Epoch [30/50], Step [100/114], Loss: 2.4854, Perplexity: 12.0060\n",
      "Validating...\n",
      "Step [0/127], Loss: 3.5789, Perplexity: 35.8340\n",
      "Step [50/127], Loss: 2.8079, Perplexity: 16.5749\n",
      "Step [100/127], Loss: 3.1617, Perplexity: 23.6099\n",
      "Switch to training...\n",
      "Epoch [31/50], Step [0/114], Loss: 2.5237, Perplexity: 12.4750\n",
      "Epoch [31/50], Step [50/114], Loss: 2.5435, Perplexity: 12.7241\n",
      "Epoch [31/50], Step [100/114], Loss: 2.6112, Perplexity: 13.6153\n",
      "Validating...\n",
      "Step [0/127], Loss: 2.9743, Perplexity: 19.5764\n",
      "Step [50/127], Loss: 2.7550, Perplexity: 15.7205\n",
      "Step [100/127], Loss: 3.3340, Perplexity: 28.0502\n",
      "Switch to training...\n",
      "Epoch [32/50], Step [0/114], Loss: 2.5292, Perplexity: 12.5436\n",
      "Epoch [32/50], Step [50/114], Loss: 2.5079, Perplexity: 12.2785\n",
      "Epoch [32/50], Step [100/114], Loss: 2.6027, Perplexity: 13.4996\n",
      "Validating...\n",
      "Step [0/127], Loss: 2.4844, Perplexity: 11.9936\n",
      "Step [50/127], Loss: 3.5483, Perplexity: 34.7542\n",
      "Step [100/127], Loss: 2.9295, Perplexity: 18.7178\n",
      "Switch to training...\n",
      "Epoch [33/50], Step [0/114], Loss: 2.5317, Perplexity: 12.5745\n",
      "Epoch [33/50], Step [50/114], Loss: 2.4520, Perplexity: 11.6119\n",
      "Epoch [33/50], Step [100/114], Loss: 2.5739, Perplexity: 13.1167\n",
      "Validating...\n",
      "Step [0/127], Loss: 3.4417, Perplexity: 31.2412\n",
      "Step [50/127], Loss: 2.8471, Perplexity: 17.2381\n",
      "Step [100/127], Loss: 3.1746, Perplexity: 23.9181\n",
      "Switch to training...\n",
      "Epoch [34/50], Step [0/114], Loss: 2.5347, Perplexity: 12.6130\n",
      "Epoch [34/50], Step [50/114], Loss: 2.5928, Perplexity: 13.3676\n",
      "Epoch [34/50], Step [100/114], Loss: 2.5257, Perplexity: 12.4995\n",
      "Validating...\n",
      "Step [0/127], Loss: 3.0783, Perplexity: 21.7221\n",
      "Step [50/127], Loss: 2.6008, Perplexity: 13.4741\n",
      "Step [100/127], Loss: 3.0629, Perplexity: 21.3890\n",
      "Switch to training...\n",
      "Epoch [35/50], Step [0/114], Loss: 2.4869, Perplexity: 12.0244\n",
      "Epoch [35/50], Step [50/114], Loss: 2.5022, Perplexity: 12.2096\n",
      "Epoch [35/50], Step [100/114], Loss: 2.5148, Perplexity: 12.3644\n",
      "Validating...\n",
      "Step [0/127], Loss: 3.3900, Perplexity: 29.6671\n",
      "Step [50/127], Loss: 2.8195, Perplexity: 16.7692\n",
      "Step [100/127], Loss: 3.5161, Perplexity: 33.6531\n",
      "Switch to training...\n",
      "Epoch [36/50], Step [0/114], Loss: 2.4804, Perplexity: 11.9462\n",
      "Epoch [36/50], Step [50/114], Loss: 2.5166, Perplexity: 12.3866\n",
      "Epoch [36/50], Step [100/114], Loss: 2.5431, Perplexity: 12.7192\n",
      "Validating...\n",
      "Step [0/127], Loss: 2.9386, Perplexity: 18.8894\n",
      "Step [50/127], Loss: 2.5218, Perplexity: 12.4509\n",
      "Step [100/127], Loss: 3.3146, Perplexity: 27.5121\n",
      "Switch to training...\n",
      "Epoch [37/50], Step [0/114], Loss: 2.4880, Perplexity: 12.0375\n",
      "Epoch [37/50], Step [50/114], Loss: 2.5612, Perplexity: 12.9510\n",
      "Epoch [37/50], Step [100/114], Loss: 2.4995, Perplexity: 12.1759\n",
      "Validating...\n",
      "Step [0/127], Loss: 2.4815, Perplexity: 11.9595\n",
      "Step [50/127], Loss: 2.6204, Perplexity: 13.7410\n",
      "Step [100/127], Loss: 2.9277, Perplexity: 18.6843\n",
      "Switch to training...\n",
      "Epoch [38/50], Step [0/114], Loss: 2.5450, Perplexity: 12.7430\n",
      "Epoch [38/50], Step [50/114], Loss: 2.4211, Perplexity: 11.2581\n",
      "Epoch [38/50], Step [100/114], Loss: 2.4831, Perplexity: 11.9783\n",
      "Validating...\n",
      "Step [0/127], Loss: 2.9451, Perplexity: 19.0132\n",
      "Step [50/127], Loss: 3.3955, Perplexity: 29.8303\n",
      "Step [100/127], Loss: 3.0163, Perplexity: 20.4162\n",
      "updated best val loss: 2.9820142\n",
      "Save model weights to... /content/drive/My Drive/DL_Fall_2020/Assignment_4//checkpoints/lstm/\n",
      "Switch to training...\n",
      "Epoch [39/50], Step [0/114], Loss: 2.5298, Perplexity: 12.5510\n",
      "Epoch [39/50], Step [50/114], Loss: 2.5189, Perplexity: 12.4150\n",
      "Epoch [39/50], Step [100/114], Loss: 2.4555, Perplexity: 11.6526\n",
      "Validating...\n",
      "Step [0/127], Loss: 3.5498, Perplexity: 34.8070\n",
      "Step [50/127], Loss: 2.5422, Perplexity: 12.7081\n",
      "Step [100/127], Loss: 3.0750, Perplexity: 21.6509\n",
      "updated best val loss: 2.9785461\n",
      "Save model weights to... /content/drive/My Drive/DL_Fall_2020/Assignment_4//checkpoints/lstm/\n",
      "Switch to training...\n",
      "Epoch [40/50], Step [0/114], Loss: 2.5237, Perplexity: 12.4742\n",
      "Epoch [40/50], Step [50/114], Loss: 2.5396, Perplexity: 12.6745\n",
      "Epoch [40/50], Step [100/114], Loss: 2.4873, Perplexity: 12.0293\n",
      "Validating...\n",
      "Step [0/127], Loss: 2.8314, Perplexity: 16.9692\n",
      "Step [50/127], Loss: 3.5159, Perplexity: 33.6469\n",
      "Step [100/127], Loss: 3.0560, Perplexity: 21.2419\n",
      "Switch to training...\n",
      "Epoch [41/50], Step [0/114], Loss: 2.4998, Perplexity: 12.1797\n",
      "Epoch [41/50], Step [50/114], Loss: 2.4811, Perplexity: 11.9549\n",
      "Epoch [41/50], Step [100/114], Loss: 2.4923, Perplexity: 12.0890\n",
      "Validating...\n",
      "Step [0/127], Loss: 3.6130, Perplexity: 37.0759\n",
      "Step [50/127], Loss: 2.9918, Perplexity: 19.9206\n",
      "Step [100/127], Loss: 3.1494, Perplexity: 23.3213\n",
      "Switch to training...\n",
      "Epoch [42/50], Step [0/114], Loss: 2.5437, Perplexity: 12.7262\n",
      "Epoch [42/50], Step [50/114], Loss: 2.4552, Perplexity: 11.6489\n",
      "Epoch [42/50], Step [100/114], Loss: 2.5061, Perplexity: 12.2576\n",
      "Validating...\n",
      "Step [0/127], Loss: 2.7414, Perplexity: 15.5091\n",
      "Step [50/127], Loss: 3.0671, Perplexity: 21.4789\n",
      "Step [100/127], Loss: 3.2555, Perplexity: 25.9332\n",
      "Switch to training...\n",
      "Epoch [43/50], Step [0/114], Loss: 2.5304, Perplexity: 12.5579\n",
      "Epoch [43/50], Step [50/114], Loss: 2.4849, Perplexity: 11.9998\n",
      "Epoch [43/50], Step [100/114], Loss: 2.4873, Perplexity: 12.0284\n",
      "Validating...\n",
      "Step [0/127], Loss: 2.9949, Perplexity: 19.9826\n",
      "Step [50/127], Loss: 2.9646, Perplexity: 19.3876\n",
      "Step [100/127], Loss: 3.1546, Perplexity: 23.4435\n",
      "updated best val loss: 2.9710672\n",
      "Save model weights to... /content/drive/My Drive/DL_Fall_2020/Assignment_4//checkpoints/lstm/\n",
      "Switch to training...\n",
      "Epoch [44/50], Step [0/114], Loss: 2.5561, Perplexity: 12.8859\n",
      "Epoch [44/50], Step [50/114], Loss: 2.5044, Perplexity: 12.2361\n",
      "Epoch [44/50], Step [100/114], Loss: 2.5618, Perplexity: 12.9593\n",
      "Validating...\n",
      "Step [0/127], Loss: 2.8098, Perplexity: 16.6071\n",
      "Step [50/127], Loss: 3.2859, Perplexity: 26.7320\n",
      "Step [100/127], Loss: 2.5182, Perplexity: 12.4066\n",
      "Switch to training...\n",
      "Epoch [45/50], Step [0/114], Loss: 2.5400, Perplexity: 12.6802\n",
      "Epoch [45/50], Step [50/114], Loss: 2.4649, Perplexity: 11.7617\n",
      "Epoch [45/50], Step [100/114], Loss: 2.5344, Perplexity: 12.6083\n",
      "Validating...\n",
      "Step [0/127], Loss: 3.7573, Perplexity: 42.8316\n",
      "Step [50/127], Loss: 2.6505, Perplexity: 14.1606\n",
      "Step [100/127], Loss: 2.9254, Perplexity: 18.6408\n",
      "Switch to training...\n",
      "Epoch [46/50], Step [0/114], Loss: 2.4576, Perplexity: 11.6769\n",
      "Epoch [46/50], Step [50/114], Loss: 2.4708, Perplexity: 11.8325\n",
      "Epoch [46/50], Step [100/114], Loss: 2.5574, Perplexity: 12.9019\n",
      "Validating...\n",
      "Step [0/127], Loss: 2.5657, Perplexity: 13.0094\n",
      "Step [50/127], Loss: 3.1941, Perplexity: 24.3891\n",
      "Step [100/127], Loss: 3.2268, Perplexity: 25.1996\n",
      "Switch to training...\n",
      "Epoch [47/50], Step [0/114], Loss: 2.4406, Perplexity: 11.4796\n",
      "Epoch [47/50], Step [50/114], Loss: 2.5276, Perplexity: 12.5230\n",
      "Epoch [47/50], Step [100/114], Loss: 2.5421, Perplexity: 12.7067\n",
      "Validating...\n",
      "Step [0/127], Loss: 2.9327, Perplexity: 18.7778\n",
      "Step [50/127], Loss: 3.6255, Perplexity: 37.5450\n",
      "Step [100/127], Loss: 2.5152, Perplexity: 12.3696\n",
      "updated best val loss: 2.9703853\n",
      "Save model weights to... /content/drive/My Drive/DL_Fall_2020/Assignment_4//checkpoints/lstm/\n",
      "Switch to training...\n",
      "Epoch [48/50], Step [0/114], Loss: 2.5149, Perplexity: 12.3649\n",
      "Epoch [48/50], Step [50/114], Loss: 2.5424, Perplexity: 12.7099\n",
      "Epoch [48/50], Step [100/114], Loss: 2.5300, Perplexity: 12.5538\n",
      "Validating...\n",
      "Step [0/127], Loss: 3.0737, Perplexity: 21.6225\n",
      "Step [50/127], Loss: 3.8051, Perplexity: 44.9294\n",
      "Step [100/127], Loss: 2.5462, Perplexity: 12.7588\n",
      "Switch to training...\n",
      "Epoch [49/50], Step [0/114], Loss: 2.5150, Perplexity: 12.3667\n",
      "Epoch [49/50], Step [50/114], Loss: 2.4818, Perplexity: 11.9628\n",
      "Epoch [49/50], Step [100/114], Loss: 2.4531, Perplexity: 11.6246\n",
      "Validating...\n",
      "Step [0/127], Loss: 3.0585, Perplexity: 21.2947\n",
      "Step [50/127], Loss: 3.8798, Perplexity: 48.4151\n",
      "Step [100/127], Loss: 2.9689, Perplexity: 19.4706\n",
      "It took: 12423.016981363297 s\n"
     ]
    }
   ],
   "source": [
    "# Training code here\n",
    "device = torch.device('cuda' if torch.cuda.is_available() else 'cpu')\n",
    "\n",
    "\n",
    "train_data_loader = get_loader(root=path_to_homework + '/flickr30k_images/', split='train', vocab=vocab,\n",
    "                               transform=transform, batch_size=batch_size, shuffle=True, num_workers=12)\n",
    "val_data_loader = get_loader(root=path_to_homework + '/flickr30k_images/', split='val', vocab=vocab,\n",
    "                             transform=transform, batch_size=8, shuffle=True, num_workers=4)\n",
    "\n",
    "model = LSTM(vocab_size=len(vocab), emb_dim=emb_dim, hidden_dim=hidden_dim, \n",
    "                   num_layers=1, dropout=dropout).to(device)  # build a model\n",
    "\n",
    "# loss and optimizer\n",
    "criterion = nn.CrossEntropyLoss().to(device)  # CE loss\n",
    "optimizer = torch.optim.Adam(model.parameters(), lr=lr, weight_decay=weight_decay)  # optimizer\n",
    "scheduler = torch.optim.lr_scheduler.StepLR(optimizer, \n",
    "                                      step_size=5,\n",
    "                                      gamma=0.5)  # decay LR by a factor of 0.5 every 10 epochs. You can change this\n",
    "\n",
    "# logs\n",
    "Train_Losses = []  # record average training loss each epoch\n",
    "Val_Losses = []   # record average validation loss each epoch\n",
    "total_step = len(train_data_loader)  # number of iterations each epoch\n",
    "best_val_loss = np.inf\n",
    "\n",
    "# start training\n",
    "print('Start training...')\n",
    "import time\n",
    "tic = time.time()\n",
    "for epoch in range(num_epochs):\n",
    "    print('Switch to training...')\n",
    "    model.train()\n",
    "    Train_loss_iter = []  # record the the training loss each iteration\n",
    "    for itr, (images, captions, lengths) in enumerate(train_data_loader):\n",
    "        ########Your Code###########\n",
    "        # train your model\n",
    "        \n",
    "        # record the training loss\n",
    "        images = images.to(device)\n",
    "        captions = captions.to(device)\n",
    "            \n",
    "        #features = Encoder(images)\n",
    "        #outputs = Decoder(features, captions, lengths)\n",
    "        \n",
    "        targets = pack_padded_sequence(captions, lengths,batch_first = True)[0].to(device)\n",
    "        optimizer.zero_grad()\n",
    "\n",
    "        outputs = model(images, captions, lengths)\n",
    "         \n",
    "        criterion = nn.CrossEntropyLoss()\n",
    "        loss = criterion(outputs,targets)\n",
    "\n",
    "        loss.backward()\n",
    "        optimizer.step()\n",
    "        \n",
    "        # print log info\n",
    "        if itr % log_step == 0:\n",
    "            # print current loss and perplexity\n",
    "            print('Epoch [{}/{}], Step [{}/{}], Loss: {:.4f}, Perplexity: {:5.4f}'\n",
    "                      .format(epoch, num_epochs, itr, total_step, loss.item(), np.exp(loss.item())))\n",
    "    scheduler.step()\n",
    "    Train_Losses.append(np.mean(Train_loss_iter))\n",
    "    np.save(os.path.join(output_dir, 'TrainingLoss_lstm.npy'), Train_Losses)  # save the training loss\n",
    "    \n",
    "    model.eval()\n",
    "    # (optional) generate a sample during the training, you can use deterministic mode\n",
    "    # Your code\n",
    "    \n",
    "    \n",
    "    # validation\n",
    "    Val_Losses.append(val(model, val_data_loader, vocab))\n",
    "    np.save(os.path.join(output_dir, 'ValLoss_lstm.npy'), Val_Losses) # save the val loss\n",
    "    \n",
    "    # save model\n",
    "    if Val_Losses[-1] < best_val_loss:\n",
    "        best_val_loss = Val_Losses[-1]\n",
    "        print('updated best val loss:', best_val_loss)\n",
    "        print('Save model weights to...', output_dir)\n",
    "        torch.save(model.state_dict(), \n",
    "                   os.path.join(output_dir, 'lstm-best.pth'.format(epoch + 1, itr + 1)))\n",
    "\n",
    "print('It took: {} s'.format(time.time() - tic))"
   ]
  },
  {
   "cell_type": "markdown",
   "metadata": {
    "id": "IwDrdESQJ3tg"
   },
   "source": [
    "## Section 3.1.3 Evalution [10 pts]\n",
    "Evaluate your model on the test set by perplexity score or BLEU score"
   ]
  },
  {
   "cell_type": "code",
   "execution_count": null,
   "metadata": {
    "id": "hH9e3yWZJ3tg"
   },
   "outputs": [],
   "source": [
    "## Evaluate your model using BLEU score. Use Deterministic mode.\n",
    "# Your code here\n",
    "\n",
    "# End of code"
   ]
  },
  {
   "cell_type": "code",
   "execution_count": 55,
   "metadata": {
    "id": "PfBVR6nnAWXY"
   },
   "outputs": [],
   "source": [
    "## evaluation code\n",
    "from tqdm import tqdm, tqdm_notebook\n",
    "from nltk.translate.bleu_score import sentence_bleu\n",
    "from nltk.translate.bleu_score import SmoothingFunction\n",
    "smoother = SmoothingFunction()\n",
    "\n",
    "def caption_generator(model, images, vocab, img_ids, captions, mode='Deterministic', temperature=1.0):\n",
    "    \"\"\"\n",
    "    Generate captions.\n",
    "    :param mode:\n",
    "    :return:\n",
    "    \"\"\"\n",
    "    sample_idxs = model.sample_generate(images, mode=mode,\n",
    "                                        temperature=temperature).data.cpu().numpy()  # [N, max_length]\n",
    "    for i, sentence in enumerate(sample_idxs):  # every sentence in this batch\n",
    "        sentence_caption = ''\n",
    "        for word_idx in sentence:\n",
    "            word = vocab.idx2word[word_idx]\n",
    "            if word != '<start>' and word != '<end>':\n",
    "                if word == '.':\n",
    "                    sentence_caption += '.'\n",
    "                else:\n",
    "                    sentence_caption += word + ' '\n",
    "            if word == '<end>':\n",
    "                break\n",
    "        captions.append({'caption': sentence_caption})\n",
    "        # captions.append(sentence_caption)\n",
    "\n",
    "    return captions\n",
    "\n",
    "def run_test(model, data_loader, vocab, mode='Deterministic', temperature=1.0):\n",
    "    \"\"\"\n",
    "    Run your model on the test set.\n",
    "    Inputs:\n",
    "    :param model: the model you use\n",
    "    :param data_loader: the data_loader\n",
    "    :param mode: use 'deterministic' or 'stochastic'\n",
    "    Outputs:\n",
    "    :param predictions\n",
    "    \"\"\"\n",
    "    predictions = []\n",
    "    for itr, (images, captions, lengths) in enumerate(tqdm(data_loader)):\n",
    "        images = Variable(images).to(device)\n",
    "        captions = Variable(captions).to(device)\n",
    "        outputs = model(images, captions, lengths)\n",
    "        \n",
    "        img_ids = list(range(itr * data_loader.batch_size, (itr + 1) * data_loader.batch_size))\n",
    "        predictions = caption_generator(model, images, vocab, img_ids, \n",
    "                                        predictions, mode=mode, temperature=temperature)\n",
    "        \n",
    "    return predictions\n",
    "\n",
    "def evaluation(model, vocab, data_path=path_to_homework + '/flickr30k_images/', mode='Deterministic', temperature=1.0,\n",
    "               split='test'):\n",
    "    \"\"\"\n",
    "    Evaluate the performance of your model on the test set using BLEU scores.\n",
    "    Inputs:\n",
    "    :param model: the model you use\n",
    "    :param weight_path: the directory to the weights of your model\n",
    "    :param vocab: vocabulary\n",
    "    :param data_path: the directory to the dataset\n",
    "    :param mode: use 'deterministic' or 'stochastic'\n",
    "    Outputs:\n",
    "    :param predictions\n",
    "    \"\"\"\n",
    "    # data loader\n",
    "    test_data_loader = get_loader(root=path_to_homework + '/flickr30k_images/', split=split, vocab=vocab, \n",
    "                                  transform=transform, batch_size=8, shuffle=False, num_workers=4)\n",
    "    \n",
    "    # run your model on the test set\n",
    "    print('Run on the test set...')\n",
    "    preds = run_test(model, test_data_loader, vocab, mode, temperature)\n",
    "    \n",
    "    # load the groundtruth\n",
    "    gt = test_data_loader.dataset.annos\n",
    "    \n",
    "    # evaluate the performance using BLEU score\n",
    "    score1 = 0\n",
    "    score2 = 0\n",
    "    score3 = 0\n",
    "    score4 = 0\n",
    "    \n",
    "    print('Computing BLEU')\n",
    "    for itr in tqdm(range(len(gt))):\n",
    "        candidate = preds[itr]['caption']\n",
    "        reference = [sent['raw'] for sent in gt[itr]['sentences']]\n",
    "        score1 += sentence_bleu(reference, candidate, weights=(1, 0, 0, 0), smoothing_function=smoother.method1)\n",
    "        score2 += sentence_bleu(reference, candidate, weights=(0, 1, 0, 0), smoothing_function=smoother.method1)\n",
    "        score3 += sentence_bleu(reference, candidate, weights=(0, 0, 1, 0), smoothing_function=smoother.method1)\n",
    "        score4 += sentence_bleu(reference, candidate, weights=(0, 0, 0, 1), smoothing_function=smoother.method1)\n",
    "    \n",
    "    bleu1 = 100 * score1/len(gt)\n",
    "    bleu2 = 100 * score2/len(gt)\n",
    "    bleu3 = 100 * score3/len(gt)\n",
    "    bleu4 = 100 * score4/len(gt)\n",
    "    \n",
    "    return bleu1, bleu2, bleu3, bleu4"
   ]
  },
  {
   "cell_type": "code",
   "execution_count": 56,
   "metadata": {
    "colab": {
     "base_uri": "https://localhost:8080/"
    },
    "id": "IQzT5YcJB8bb",
    "outputId": "ede7104c-e188-480f-ac08-cbdcf0884b38"
   },
   "outputs": [
    {
     "name": "stderr",
     "output_type": "stream",
     "text": [
      "\r",
      "  0%|          | 0/125 [00:00<?, ?it/s]"
     ]
    },
    {
     "name": "stdout",
     "output_type": "stream",
     "text": [
      "Run on the test set...\n"
     ]
    },
    {
     "name": "stderr",
     "output_type": "stream",
     "text": [
      "100%|██████████| 125/125 [00:11<00:00, 11.08it/s]\n",
      "  2%|▏         | 24/1000 [00:00<00:04, 237.40it/s]"
     ]
    },
    {
     "name": "stdout",
     "output_type": "stream",
     "text": [
      "Computing BLEU\n"
     ]
    },
    {
     "name": "stderr",
     "output_type": "stream",
     "text": [
      "100%|██████████| 1000/1000 [00:04<00:00, 241.21it/s]"
     ]
    },
    {
     "name": "stdout",
     "output_type": "stream",
     "text": [
      "BLEU 1:92.08996303274469, BLEU 2:64.7317747009561, BLEU 3:40.75789685245828, BLEU 4:27.851293569191373\n"
     ]
    },
    {
     "name": "stderr",
     "output_type": "stream",
     "text": [
      "\n"
     ]
    }
   ],
   "source": [
    "## Evaluate your model using BLEU score. Use Deterministic mode.\n",
    "\n",
    "## Image transformation\n",
    "transform = transforms.Compose([\n",
    "        transforms.Resize(256),\n",
    "        transforms.CenterCrop(224),\n",
    "        #     transforms.RandomCrop(224, pad_if_needed=True),\n",
    "        transforms.RandomHorizontalFlip(),\n",
    "        transforms.ToTensor(),\n",
    "        transforms.Normalize(mean=(0.485, 0.456, 0.406),\n",
    "                             std=(0.229, 0.224, 0.225))])\n",
    "\n",
    "## Evaluate your model using BLEU score. Use Deterministic mode\n",
    "model = LSTM(vocab_size=len(vocab), emb_dim=emb_dim, hidden_dim=hidden_dim, \n",
    "                   num_layers=1, dropout=dropout).to(device)  # build a model\n",
    "model.load_state_dict(torch.load(path_to_homework + '/checkpoints/lstm/lstm-best.pth', map_location=torch.device('cpu')))\n",
    "model.eval()\n",
    "bleu1, bleu2, bleu3, bleu4 = evaluation(model, vocab, mode='Deterministic')\n",
    "print(\"BLEU 1:{}, BLEU 2:{}, BLEU 3:{}, BLEU 4:{}\".format(bleu1, bleu2, bleu3, bleu4))"
   ]
  },
  {
   "cell_type": "markdown",
   "metadata": {
    "id": "MfEfmWcgXxab"
   },
   "source": []
  },
  {
   "cell_type": "code",
   "execution_count": null,
   "metadata": {
    "id": "s7W_-VtgXyDd"
   },
   "outputs": [],
   "source": [
    "LSTM : BLEU4 = 27.85"
   ]
  },
  {
   "cell_type": "code",
   "execution_count": null,
   "metadata": {
    "id": "3g1dykTzDnld"
   },
   "outputs": [],
   "source": []
  },
  {
   "cell_type": "code",
   "execution_count": null,
   "metadata": {
    "id": "LgAEsuDkDoxZ"
   },
   "outputs": [],
   "source": [
    "## Use at least 3 different temperatures to generate captions on the test set. Report the BLEU scores.\n",
    "# Your code here\n",
    "#for temperature =[0.2,2,4]\n",
    "#temperature = 0.1\n",
    "#captions = caption_generator(model, images, vocab, img_ids, captions, mode='Deterministic', temperature=1.0)\n",
    "\n",
    "bleu1, bleu2, bleu3, bleu4 = evaluation(model, vocab, mode='Stochastic',temperature = 0.2)\n",
    "print(\"Temperature = 0.2/\")\n",
    "print(\"BLEU 1:{}, BLEU 2:{}, BLEU 3:{}, BLEU 4:{}\".format(bleu1, bleu2, bleu3, bleu4))\n",
    "\n",
    "\n",
    "\n",
    "\n",
    "# End of code"
   ]
  },
  {
   "cell_type": "code",
   "execution_count": null,
   "metadata": {
    "id": "zRAJs9fjDoxd"
   },
   "outputs": [],
   "source": [
    "bleu1, bleu2, bleu3, bleu4 = evaluation(model, vocab, mode='Deterministic',temperature = 2)\n",
    "print(\"Temperature = 2/\")\n",
    "print(\"BLEU 1:{}, BLEU 2:{}, BLEU 3:{}, BLEU 4:{}\".format(bleu1, bleu2, bleu3, bleu4))"
   ]
  },
  {
   "cell_type": "code",
   "execution_count": null,
   "metadata": {
    "id": "G5-sFuBmDoxg"
   },
   "outputs": [],
   "source": [
    "bleu1, bleu2, bleu3, bleu4 = evaluation(model, vocab, mode='Deterministic',temperature = 4)\n",
    "print(\"Temperature = 4\")\n",
    "print(\"BLEU 1:{}, BLEU 2:{}, BLEU 3:{}, BLEU 4:{}\".format(bleu1, bleu2, bleu3, bleu4))"
   ]
  },
  {
   "cell_type": "markdown",
   "metadata": {
    "id": "CySIjurRJ3tj"
   },
   "source": [
    "## Section 3.1.4 Discussion [5 pts]\n",
    "What's the difference between Vanilla RNN and LSTM (training loss, evaluation results, etc)?"
   ]
  },
  {
   "cell_type": "markdown",
   "metadata": {
    "id": "wSaNN8H1k6fa"
   },
   "source": [
    "Vanilla RNN Loss =  2.67 Perplexity ; 14.67  BLEU4 - 27.75 Time 13300\n",
    "LSTM  Loss = 2.96, Perplexity = 19.47    BLEU4 = 27.85    Time = 12400s\n",
    "LSTM give more control ability of output compared to Vanilla RNN.It is difficult to train Vanilla RNN that require long term temporal dependencies leading to vanishing gradients, whereas in LSTM  it is easier due to the memory cells of LSTM that maintains information for longer period of time.Hence ideally LSTM should perform better than Vanilla RNN.For this case the evaluateion results for both the models are similar (BLEU = 27.8). Although LSTM model takes lesser time to train than vanilla RNN "
   ]
  },
  {
   "cell_type": "markdown",
   "metadata": {
    "id": "oRZpF8k7J3tj"
   },
   "source": [
    "**Your comments**:"
   ]
  },
  {
   "cell_type": "markdown",
   "metadata": {
    "id": "k2SJ9GOUJ3tk"
   },
   "source": [
    "## Section 3.2 Using pre-trained word embeddings [20 pts]\n",
    "For now, the decoder uses a word as input by converting it into a fixed size embedding, and our networks learn these word embeddings by training. In this experiment, you will use pre-trained word embeddings like Word2Vec or GloVe in LSTM. If you use Pytorch’s nn.Embedding layer, you can initialize its weights with a matrix containing pre-trained word embeddings for all words in your vocabulary, and freeze the weights (i.e. don’t train this layer). You can find these embeddings online.\n",
    "\n",
    "Some resources:\n",
    "- GloVe: https://nlp.stanford.edu/projects/glove/\n",
    "- Word2Vec: http://jalammar.github.io/illustrated-word2vec/\n",
    "\n",
    "In case you don't know how to get one, we've already provided a light GloVe embedding: wm_06.npy, which can produce 300-d word embeddings."
   ]
  },
  {
   "cell_type": "markdown",
   "metadata": {
    "id": "9wOecgNrJ3tk"
   },
   "source": [
    "## Section 3.2.1 Encoder-decoder [10 pts]"
   ]
  },
  {
   "cell_type": "code",
   "execution_count": 60,
   "metadata": {
    "id": "MhGuMzqfa1OW"
   },
   "outputs": [],
   "source": [
    "\n",
    "import torch\n",
    "import torch.nn as nn\n",
    "import torch.nn.functional as F\n",
    "import torchvision\n",
    "from torchvision import transforms\n",
    "from torch.nn.utils.rnn import pack_padded_sequence\n",
    "from torch.autograd import Variable\n",
    "import numpy as np\n",
    "import matplotlib.pyplot as plt\n",
    "import os\n",
    "import torchvision.models as models"
   ]
  },
  {
   "cell_type": "code",
   "execution_count": 61,
   "metadata": {
    "id": "0VrY0x4Qa1Vb"
   },
   "outputs": [],
   "source": [
    "class Encoder(nn.Module):\n",
    "    def __init__(self, emb_dim):\n",
    "        \"\"\"\n",
    "        Use ResNet-50 as encoder.\n",
    "        :param emb_dim: output size of ResNet-50.\n",
    "        \"\"\"\n",
    "        super(Encoder, self).__init__()\n",
    "        \n",
    "        #self.resnet = torchvision.models.resnet50(pretrained=True)\n",
    "        ###########Your code###############\n",
    "        # freeze the parameters\n",
    "        #self.resnet = models.resnet50(pretrained=True)\n",
    "        resnet = models.resnet50(pretrained=True)\n",
    "        # replace the last layer (fc layer) with a trainable layer for finetuning\n",
    "        for param in resnet.parameters():\n",
    "            param.requires_grad_(False)\n",
    "        \n",
    "        # remove last fully connected layer\n",
    "        modules = list(resnet.children())[:-1]\n",
    "        \n",
    "        # build the new resnet\n",
    "        self.resnet = nn.Sequential(*modules)\n",
    "        \n",
    "        # our additional Fully connected layer with an output = the embbed size\n",
    "        # to feed the rnn\n",
    "        self.embed = nn.Linear(resnet.fc.in_features, emb_dim)\n",
    "\n",
    "    def forward(self, x):\n",
    "        x = self.resnet(x)  # output shape: [N, emb_dim]\n",
    "        #flatten for our additional fc layer\n",
    "        x = x.view(x.size(0), -1)\n",
    "        \n",
    "        x = self.embed(x)\n",
    "        return x"
   ]
  },
  {
   "cell_type": "code",
   "execution_count": 62,
   "metadata": {
    "colab": {
     "base_uri": "https://localhost:8080/"
    },
    "id": "7Egu0zjGxuZo",
    "outputId": "e91c98e5-5bcb-4057-a810-8786ae7638b0"
   },
   "outputs": [
    {
     "name": "stdout",
     "output_type": "stream",
     "text": [
      "--2020-11-03 04:24:49--  https://s3.amazonaws.com/dl4j-distribution/GoogleNews-vectors-negative300.bin.gz\n",
      "Resolving s3.amazonaws.com (s3.amazonaws.com)... 52.216.229.149\n",
      "Connecting to s3.amazonaws.com (s3.amazonaws.com)|52.216.229.149|:443... connected.\n",
      "HTTP request sent, awaiting response... 200 OK\n",
      "Length: 1647046227 (1.5G) [application/x-gzip]\n",
      "Saving to: ‘/root/input/GoogleNews-vectors-negative300.bin.gz’\n",
      "\n",
      "GoogleNews-vectors- 100%[===================>]   1.53G  71.0MB/s    in 25s     \n",
      "\n",
      "2020-11-03 04:25:14 (63.0 MB/s) - ‘/root/input/GoogleNews-vectors-negative300.bin.gz’ saved [1647046227/1647046227]\n",
      "\n"
     ]
    }
   ],
   "source": [
    "EMBEDDING_FILE = '/root/input/GoogleNews-vectors-negative300.bin.gz'\n",
    "!wget -P /root/input/ -c \"https://s3.amazonaws.com/dl4j-distribution/GoogleNews-vectors-negative300.bin.gz\""
   ]
  },
  {
   "cell_type": "code",
   "execution_count": 63,
   "metadata": {
    "id": "mX2rG5MtxxHk"
   },
   "outputs": [],
   "source": [
    "import gensim\n",
    "wordmodel = gensim.models.KeyedVectors.load_word2vec_format(EMBEDDING_FILE, binary=True)\n",
    "weights = torch.FloatTensor(wordmodel.vectors)"
   ]
  },
  {
   "cell_type": "code",
   "execution_count": 64,
   "metadata": {
    "id": "APkLe0USx0GB"
   },
   "outputs": [],
   "source": [
    "pretrained_emb = nn.Embedding.from_pretrained(weights,freeze = True)"
   ]
  },
  {
   "cell_type": "code",
   "execution_count": 65,
   "metadata": {
    "id": "xcvRSrg9J3tk"
   },
   "outputs": [],
   "source": [
    "class Decoder(nn.Module):\n",
    "    def __init__(self, vocab_size, emb_dim, hidden_dim, pretrained_emb, num_layers=1, dropout=0):\n",
    "        \"\"\"\n",
    "        Use LSTM as decoder for captions.\n",
    "        :param emb_dim: Embedding dimensions.\n",
    "        :param hidden_dim: Hidden states dimensions.\n",
    "        :param pretrained_emb: the path to the pretrained embedding\n",
    "        :param num_layers: Number of LSTM layers.\n",
    "        :param vocab_size: The size of Vocabulary.\n",
    "        :param dropout: dropout probability\n",
    "        \"\"\"\n",
    "        super(Decoder, self).__init__()\n",
    "        self.max_length = 30  # in case it's trapped\n",
    "        ###### Your Code#########\n",
    "        # load pre-trained embedding weights and freeze this layer\n",
    "        \n",
    "        # lstm network\n",
    "        self.emb_dim = emb_dim\n",
    "        self.hidden_dim = hidden_dim\n",
    "        self.vocab_size = vocab_size\n",
    "        # output layer\n",
    "        self.pretrained_emb = pretrained_emb\n",
    "        #from_pretrained(embeddings, freeze=True, padding_idx=None, max_norm=None, norm_type=2.0, scale_grad_by_freq=False, sparse=False)\n",
    "\n",
    "\n",
    "        #self.word_embeddings = nn.Embedding(vocab_size, emb_dim)\n",
    "        \n",
    "        \n",
    "        self.lstm = nn.LSTM(emb_dim,hidden_dim, num_layers, batch_first=True)\n",
    "        \n",
    "        # The linear layer maps the hidden state output of the LSTM to the number of words we want:\n",
    "        \n",
    "        self.linear = nn.Linear(self.hidden_dim, vocab_size)\n",
    "    def forward(self, encode_features, captions, lengths):\n",
    "        \"\"\"\n",
    "        Feed forward to generate captions.\n",
    "        :param encode_features: output of encoder, size [N, emb_dim]\n",
    "        :param captions: captions, size [N, max(lengths)]\n",
    "        :param lengths: a list indicating valid length for each caption. length is (batch_size).\n",
    "        \"\"\"\n",
    "        #############Your Code###################\n",
    "        # compute the embedding using one-hot technique and linear function\n",
    "        \n",
    "        # concatenate the encoded features from encoder and embeddings\n",
    "                \n",
    "        # feed into RNN\n",
    "        \n",
    "        # output layer\n",
    "        \n",
    "        embeddings = pretrained_emb(captions)\n",
    "        \n",
    "        # Stack the features and captions\n",
    "        embeddings = torch.cat((encode_features.unsqueeze(1), embeddings), dim=1) \n",
    "        packed = pack_padded_sequence(embeddings, lengths, batch_first = True)\n",
    "\n",
    "       # rnn_out, self.hidden = self.rnn(embeddings, self.hidden) \n",
    "        lstm_out ,hidden = self.lstm(packed)\n",
    "        \n",
    "        #out = self.linear(rnn_out)\n",
    "        \n",
    "        #outputs = out[:, :-1]\n",
    "           \n",
    "        outputs = self.linear(lstm_out[0])\n",
    "\n",
    "        return outputs"
   ]
  },
  {
   "cell_type": "code",
   "execution_count": 66,
   "metadata": {
    "id": "HxWiudFBbKOq"
   },
   "outputs": [],
   "source": [
    "class Word_embeddings(nn.Module):\n",
    "    def __init__(self, vocab_size, emb_dim, hidden_dim, pretrained_emb, num_layers=1, dropout=0):\n",
    "        \"\"\"\n",
    "        Encoder-decoder baseline.\n",
    "        :param vocab_size: the size of Vocabulary.\n",
    "        :param emb_dim: the dimensions of word embedding.\n",
    "        :param hidden_dim: the dimensions of hidden units.\n",
    "        :param pretrained_emb: the path to the pretrained embedding\n",
    "        :param num_layers: the number of LSTM layers.\n",
    "        :param dropout: dropout probability.\n",
    "        \"\"\"\n",
    "        super(Word_embeddings, self).__init__()\n",
    "        #self.max_length = self.decoder.max_length\n",
    "        #########Your Code################\n",
    "        # Encoder: ResNet-50\n",
    "\n",
    "        # Decoder: LSTM\n",
    "        self.Encoder = Encoder(emb_dim)\n",
    "        # Decoder: LSTM\n",
    "        self.Decoder = Decoder(vocab_size, emb_dim, hidden_dim, pretrained_emb, num_layers=1, dropout=0)\n",
    "        self.soft = nn.Softmax(dim = 1)\n",
    "        #self.max_length = self.Decoder.max_length\n",
    "        self.max_length = 30\n",
    "\n",
    "        \n",
    "\n",
    "    def forward(self, x, captions, lengths):\n",
    "        \"\"\"\n",
    "        Feed forward.\n",
    "        :param x: Images, [N, 3, H, W]\n",
    "        :param captions: encoded captions, [N, max(lengths)]\n",
    "        :param lengths: a list indicating valid length for each caption. length is (batch_size).\n",
    "        :return: output logits, usually followed by a softmax layer.\n",
    "        \"\"\"\n",
    "        ##########Your code###################\n",
    "        # forward passing\n",
    "        features = self.Encoder(x)\n",
    "        outputs = self.Decoder(features, captions,  lengths)\n",
    "        return x\n",
    "\n",
    "    def sample_generate(self, x, states=None, mode='Deterministic', temperature=5.0):\n",
    "        \"\"\"\n",
    "        Generate samples.\n",
    "        :param x:\n",
    "        :return:\n",
    "        \"\"\"\n",
    "        sample_idxs = []\n",
    "        #################Your Code##################\n",
    "        # compute the encoded features\n",
    "        \n",
    "        # decide which mode we use\n",
    "        \n",
    "        if mode == 'Deterministic':\n",
    "            # take the maximum index after the softmax\n",
    "           for itr in range(self.max_length):\n",
    "               hiddens, states = self.Decoder.lstm(features, states)\n",
    "               outputs = self.Decoder.linear(hiddens.squeeze(1))\n",
    "               predicted = outputs.max(1)[1]\n",
    "               \n",
    "               sample_idxs.append(predicted)\n",
    "               features = self.Decoder.word_embeddings(predicted).unsqueeze(1)\n",
    "           sample_idxs = torch.stack(sample_idxs,dim =1)\n",
    "\n",
    "        elif mode == 'Stochastic':\n",
    "            # sample from the probability distribution after the softmax\n",
    "            # Hint: use torch.multinomial() to sample from a distribution.\n",
    "            for itr in range(self.max_length):\n",
    "                outputs = self.Decoder.linear(hiddens.squeeze(1))\n",
    "                probs = F.softmax(outputs.div(temperature), dim = 1)\n",
    "                predicted = torch.multinomial(probs.data,1)\n",
    "                sample_idxs.append(predicted[:,0])\n",
    "                inputs = self.Decoder.word_embeddings(predicted[:,0].unsqueeze(1))\n",
    "            sample_idxs = torch.stack(sample_idxs,dim =1)\n",
    "            \n",
    "            \n",
    "        return sample_idxs"
   ]
  },
  {
   "cell_type": "markdown",
   "metadata": {
    "id": "VU4gTmhnJ3to"
   },
   "source": [
    "## Section 3.2.2 Training [5 pts]"
   ]
  },
  {
   "cell_type": "code",
   "execution_count": 67,
   "metadata": {
    "id": "OomtgABHJ3to"
   },
   "outputs": [],
   "source": [
    "# some hyperparameters, you can change them\n",
    "## training parameters\n",
    "batch_size = 256\n",
    "lr = 1e-2\n",
    "num_epochs = 50\n",
    "weight_decay = 0.0\n",
    "log_step = 50\n",
    "\n",
    "## network architecture\n",
    "emb_dim = 300\n",
    "hidden_dim = 256\n",
    "num_layers = 1 # number of RNN layers\n",
    "dropout = 0.0\n",
    "\n",
    "## image transformation\n",
    "transform = transforms.Compose([\n",
    "        transforms.Resize(256),\n",
    "        transforms.CenterCrop(224),\n",
    "        #     transforms.RandomCrop(224, pad_if_needed=True),\n",
    "        transforms.RandomHorizontalFlip(),\n",
    "        transforms.ToTensor(),\n",
    "        transforms.Normalize(mean=(0.485, 0.456, 0.406),\n",
    "                             std=(0.229, 0.224, 0.225))])\n",
    "\n",
    "## Output directory\n",
    "output_dir = path_to_homework + '/checkpoints/pretrained_emb/'\n",
    "os.makedirs(output_dir, exist_ok=True)"
   ]
  },
  {
   "cell_type": "code",
   "execution_count": 68,
   "metadata": {
    "colab": {
     "base_uri": "https://localhost:8080/",
     "height": 690
    },
    "id": "p_oIBSsLJ3tq",
    "outputId": "ffac748f-69bd-4762-b682-3106448cc2f3"
   },
   "outputs": [
    {
     "name": "stdout",
     "output_type": "stream",
     "text": [
      "Start training...\n",
      "Switch to training...\n"
     ]
    },
    {
     "name": "stderr",
     "output_type": "stream",
     "text": [
      "Exception ignored in: <bound method _MultiProcessingDataLoaderIter.__del__ of <torch.utils.data.dataloader._MultiProcessingDataLoaderIter object at 0x7f2a0c9c15c0>>\n",
      "Traceback (most recent call last):\n",
      "  File \"/usr/local/lib/python3.6/dist-packages/torch/utils/data/dataloader.py\", line 1101, in __del__\n",
      "    self._shutdown_workers()\n",
      "  File \"/usr/local/lib/python3.6/dist-packages/torch/utils/data/dataloader.py\", line 1075, in _shutdown_workers\n",
      "    w.join(timeout=_utils.MP_STATUS_CHECK_INTERVAL)\n",
      "  File \"/usr/lib/python3.6/multiprocessing/process.py\", line 124, in join\n",
      "    res = self._popen.wait(timeout)\n",
      "  File \"/usr/lib/python3.6/multiprocessing/popen_fork.py\", line 47, in wait\n",
      "    if not wait([self.sentinel], timeout):\n",
      "  File \"/usr/lib/python3.6/multiprocessing/connection.py\", line 911, in wait\n",
      "    ready = selector.select(timeout)\n",
      "  File \"/usr/lib/python3.6/selectors.py\", line 376, in select\n",
      "    fd_event_list = self._poll.poll(timeout)\n",
      "  File \"/usr/local/lib/python3.6/dist-packages/torch/utils/data/_utils/signal_handling.py\", line 66, in handler\n",
      "    _error_if_any_worker_fails()\n",
      "RuntimeError: DataLoader worker (pid 7571) is killed by signal: Killed. \n"
     ]
    },
    {
     "ename": "RuntimeError",
     "evalue": "ignored",
     "output_type": "error",
     "traceback": [
      "\u001b[0;31m---------------------------------------------------------------------------\u001b[0m",
      "\u001b[0;31mRuntimeError\u001b[0m                              Traceback (most recent call last)",
      "\u001b[0;32m<ipython-input-68-4ba776ce2d8c>\u001b[0m in \u001b[0;36m<module>\u001b[0;34m()\u001b[0m\n\u001b[1;32m     52\u001b[0m         \u001b[0moptimizer\u001b[0m\u001b[0;34m.\u001b[0m\u001b[0mzero_grad\u001b[0m\u001b[0;34m(\u001b[0m\u001b[0;34m)\u001b[0m\u001b[0;34m\u001b[0m\u001b[0;34m\u001b[0m\u001b[0m\n\u001b[1;32m     53\u001b[0m \u001b[0;34m\u001b[0m\u001b[0m\n\u001b[0;32m---> 54\u001b[0;31m         \u001b[0moutputs\u001b[0m \u001b[0;34m=\u001b[0m \u001b[0mmodel\u001b[0m\u001b[0;34m(\u001b[0m\u001b[0mimages\u001b[0m\u001b[0;34m,\u001b[0m \u001b[0mcaptions\u001b[0m\u001b[0;34m,\u001b[0m \u001b[0mlengths\u001b[0m\u001b[0;34m)\u001b[0m\u001b[0;34m\u001b[0m\u001b[0;34m\u001b[0m\u001b[0m\n\u001b[0m\u001b[1;32m     55\u001b[0m \u001b[0;34m\u001b[0m\u001b[0m\n\u001b[1;32m     56\u001b[0m         \u001b[0mcriterion\u001b[0m \u001b[0;34m=\u001b[0m \u001b[0mnn\u001b[0m\u001b[0;34m.\u001b[0m\u001b[0mCrossEntropyLoss\u001b[0m\u001b[0;34m(\u001b[0m\u001b[0;34m)\u001b[0m\u001b[0;34m\u001b[0m\u001b[0;34m\u001b[0m\u001b[0m\n",
      "\u001b[0;32m/usr/local/lib/python3.6/dist-packages/torch/nn/modules/module.py\u001b[0m in \u001b[0;36m_call_impl\u001b[0;34m(self, *input, **kwargs)\u001b[0m\n\u001b[1;32m    720\u001b[0m             \u001b[0mresult\u001b[0m \u001b[0;34m=\u001b[0m \u001b[0mself\u001b[0m\u001b[0;34m.\u001b[0m\u001b[0m_slow_forward\u001b[0m\u001b[0;34m(\u001b[0m\u001b[0;34m*\u001b[0m\u001b[0minput\u001b[0m\u001b[0;34m,\u001b[0m \u001b[0;34m**\u001b[0m\u001b[0mkwargs\u001b[0m\u001b[0;34m)\u001b[0m\u001b[0;34m\u001b[0m\u001b[0;34m\u001b[0m\u001b[0m\n\u001b[1;32m    721\u001b[0m         \u001b[0;32melse\u001b[0m\u001b[0;34m:\u001b[0m\u001b[0;34m\u001b[0m\u001b[0;34m\u001b[0m\u001b[0m\n\u001b[0;32m--> 722\u001b[0;31m             \u001b[0mresult\u001b[0m \u001b[0;34m=\u001b[0m \u001b[0mself\u001b[0m\u001b[0;34m.\u001b[0m\u001b[0mforward\u001b[0m\u001b[0;34m(\u001b[0m\u001b[0;34m*\u001b[0m\u001b[0minput\u001b[0m\u001b[0;34m,\u001b[0m \u001b[0;34m**\u001b[0m\u001b[0mkwargs\u001b[0m\u001b[0;34m)\u001b[0m\u001b[0;34m\u001b[0m\u001b[0;34m\u001b[0m\u001b[0m\n\u001b[0m\u001b[1;32m    723\u001b[0m         for hook in itertools.chain(\n\u001b[1;32m    724\u001b[0m                 \u001b[0m_global_forward_hooks\u001b[0m\u001b[0;34m.\u001b[0m\u001b[0mvalues\u001b[0m\u001b[0;34m(\u001b[0m\u001b[0;34m)\u001b[0m\u001b[0;34m,\u001b[0m\u001b[0;34m\u001b[0m\u001b[0;34m\u001b[0m\u001b[0m\n",
      "\u001b[0;32m<ipython-input-66-92be809be709>\u001b[0m in \u001b[0;36mforward\u001b[0;34m(self, x, captions, lengths)\u001b[0m\n\u001b[1;32m     36\u001b[0m         \u001b[0;31m# forward passing\u001b[0m\u001b[0;34m\u001b[0m\u001b[0;34m\u001b[0m\u001b[0;34m\u001b[0m\u001b[0m\n\u001b[1;32m     37\u001b[0m         \u001b[0mfeatures\u001b[0m \u001b[0;34m=\u001b[0m \u001b[0mself\u001b[0m\u001b[0;34m.\u001b[0m\u001b[0mEncoder\u001b[0m\u001b[0;34m(\u001b[0m\u001b[0mx\u001b[0m\u001b[0;34m)\u001b[0m\u001b[0;34m\u001b[0m\u001b[0;34m\u001b[0m\u001b[0m\n\u001b[0;32m---> 38\u001b[0;31m         \u001b[0moutputs\u001b[0m \u001b[0;34m=\u001b[0m \u001b[0mself\u001b[0m\u001b[0;34m.\u001b[0m\u001b[0mDecoder\u001b[0m\u001b[0;34m(\u001b[0m\u001b[0mfeatures\u001b[0m\u001b[0;34m,\u001b[0m \u001b[0mcaptions\u001b[0m\u001b[0;34m,\u001b[0m  \u001b[0mlengths\u001b[0m\u001b[0;34m)\u001b[0m\u001b[0;34m\u001b[0m\u001b[0;34m\u001b[0m\u001b[0m\n\u001b[0m\u001b[1;32m     39\u001b[0m         \u001b[0;32mreturn\u001b[0m \u001b[0mx\u001b[0m\u001b[0;34m\u001b[0m\u001b[0;34m\u001b[0m\u001b[0m\n\u001b[1;32m     40\u001b[0m \u001b[0;34m\u001b[0m\u001b[0m\n",
      "\u001b[0;32m/usr/local/lib/python3.6/dist-packages/torch/nn/modules/module.py\u001b[0m in \u001b[0;36m_call_impl\u001b[0;34m(self, *input, **kwargs)\u001b[0m\n\u001b[1;32m    720\u001b[0m             \u001b[0mresult\u001b[0m \u001b[0;34m=\u001b[0m \u001b[0mself\u001b[0m\u001b[0;34m.\u001b[0m\u001b[0m_slow_forward\u001b[0m\u001b[0;34m(\u001b[0m\u001b[0;34m*\u001b[0m\u001b[0minput\u001b[0m\u001b[0;34m,\u001b[0m \u001b[0;34m**\u001b[0m\u001b[0mkwargs\u001b[0m\u001b[0;34m)\u001b[0m\u001b[0;34m\u001b[0m\u001b[0;34m\u001b[0m\u001b[0m\n\u001b[1;32m    721\u001b[0m         \u001b[0;32melse\u001b[0m\u001b[0;34m:\u001b[0m\u001b[0;34m\u001b[0m\u001b[0;34m\u001b[0m\u001b[0m\n\u001b[0;32m--> 722\u001b[0;31m             \u001b[0mresult\u001b[0m \u001b[0;34m=\u001b[0m \u001b[0mself\u001b[0m\u001b[0;34m.\u001b[0m\u001b[0mforward\u001b[0m\u001b[0;34m(\u001b[0m\u001b[0;34m*\u001b[0m\u001b[0minput\u001b[0m\u001b[0;34m,\u001b[0m \u001b[0;34m**\u001b[0m\u001b[0mkwargs\u001b[0m\u001b[0;34m)\u001b[0m\u001b[0;34m\u001b[0m\u001b[0;34m\u001b[0m\u001b[0m\n\u001b[0m\u001b[1;32m    723\u001b[0m         for hook in itertools.chain(\n\u001b[1;32m    724\u001b[0m                 \u001b[0m_global_forward_hooks\u001b[0m\u001b[0;34m.\u001b[0m\u001b[0mvalues\u001b[0m\u001b[0;34m(\u001b[0m\u001b[0;34m)\u001b[0m\u001b[0;34m,\u001b[0m\u001b[0;34m\u001b[0m\u001b[0;34m\u001b[0m\u001b[0m\n",
      "\u001b[0;32m<ipython-input-65-d4efef35a76e>\u001b[0m in \u001b[0;36mforward\u001b[0;34m(self, encode_features, captions, lengths)\u001b[0m\n\u001b[1;32m     48\u001b[0m         \u001b[0;31m# output layer\u001b[0m\u001b[0;34m\u001b[0m\u001b[0;34m\u001b[0m\u001b[0;34m\u001b[0m\u001b[0m\n\u001b[1;32m     49\u001b[0m \u001b[0;34m\u001b[0m\u001b[0m\n\u001b[0;32m---> 50\u001b[0;31m         \u001b[0membeddings\u001b[0m \u001b[0;34m=\u001b[0m \u001b[0mpretrained_emb\u001b[0m\u001b[0;34m(\u001b[0m\u001b[0mcaptions\u001b[0m\u001b[0;34m)\u001b[0m\u001b[0;34m\u001b[0m\u001b[0;34m\u001b[0m\u001b[0m\n\u001b[0m\u001b[1;32m     51\u001b[0m \u001b[0;34m\u001b[0m\u001b[0m\n\u001b[1;32m     52\u001b[0m         \u001b[0;31m# Stack the features and captions\u001b[0m\u001b[0;34m\u001b[0m\u001b[0;34m\u001b[0m\u001b[0;34m\u001b[0m\u001b[0m\n",
      "\u001b[0;32m/usr/local/lib/python3.6/dist-packages/torch/nn/modules/module.py\u001b[0m in \u001b[0;36m_call_impl\u001b[0;34m(self, *input, **kwargs)\u001b[0m\n\u001b[1;32m    720\u001b[0m             \u001b[0mresult\u001b[0m \u001b[0;34m=\u001b[0m \u001b[0mself\u001b[0m\u001b[0;34m.\u001b[0m\u001b[0m_slow_forward\u001b[0m\u001b[0;34m(\u001b[0m\u001b[0;34m*\u001b[0m\u001b[0minput\u001b[0m\u001b[0;34m,\u001b[0m \u001b[0;34m**\u001b[0m\u001b[0mkwargs\u001b[0m\u001b[0;34m)\u001b[0m\u001b[0;34m\u001b[0m\u001b[0;34m\u001b[0m\u001b[0m\n\u001b[1;32m    721\u001b[0m         \u001b[0;32melse\u001b[0m\u001b[0;34m:\u001b[0m\u001b[0;34m\u001b[0m\u001b[0;34m\u001b[0m\u001b[0m\n\u001b[0;32m--> 722\u001b[0;31m             \u001b[0mresult\u001b[0m \u001b[0;34m=\u001b[0m \u001b[0mself\u001b[0m\u001b[0;34m.\u001b[0m\u001b[0mforward\u001b[0m\u001b[0;34m(\u001b[0m\u001b[0;34m*\u001b[0m\u001b[0minput\u001b[0m\u001b[0;34m,\u001b[0m \u001b[0;34m**\u001b[0m\u001b[0mkwargs\u001b[0m\u001b[0;34m)\u001b[0m\u001b[0;34m\u001b[0m\u001b[0;34m\u001b[0m\u001b[0m\n\u001b[0m\u001b[1;32m    723\u001b[0m         for hook in itertools.chain(\n\u001b[1;32m    724\u001b[0m                 \u001b[0m_global_forward_hooks\u001b[0m\u001b[0;34m.\u001b[0m\u001b[0mvalues\u001b[0m\u001b[0;34m(\u001b[0m\u001b[0;34m)\u001b[0m\u001b[0;34m,\u001b[0m\u001b[0;34m\u001b[0m\u001b[0;34m\u001b[0m\u001b[0m\n",
      "\u001b[0;32m/usr/local/lib/python3.6/dist-packages/torch/nn/modules/sparse.py\u001b[0m in \u001b[0;36mforward\u001b[0;34m(self, input)\u001b[0m\n\u001b[1;32m    124\u001b[0m         return F.embedding(\n\u001b[1;32m    125\u001b[0m             \u001b[0minput\u001b[0m\u001b[0;34m,\u001b[0m \u001b[0mself\u001b[0m\u001b[0;34m.\u001b[0m\u001b[0mweight\u001b[0m\u001b[0;34m,\u001b[0m \u001b[0mself\u001b[0m\u001b[0;34m.\u001b[0m\u001b[0mpadding_idx\u001b[0m\u001b[0;34m,\u001b[0m \u001b[0mself\u001b[0m\u001b[0;34m.\u001b[0m\u001b[0mmax_norm\u001b[0m\u001b[0;34m,\u001b[0m\u001b[0;34m\u001b[0m\u001b[0;34m\u001b[0m\u001b[0m\n\u001b[0;32m--> 126\u001b[0;31m             self.norm_type, self.scale_grad_by_freq, self.sparse)\n\u001b[0m\u001b[1;32m    127\u001b[0m \u001b[0;34m\u001b[0m\u001b[0m\n\u001b[1;32m    128\u001b[0m     \u001b[0;32mdef\u001b[0m \u001b[0mextra_repr\u001b[0m\u001b[0;34m(\u001b[0m\u001b[0mself\u001b[0m\u001b[0;34m)\u001b[0m \u001b[0;34m->\u001b[0m \u001b[0mstr\u001b[0m\u001b[0;34m:\u001b[0m\u001b[0;34m\u001b[0m\u001b[0;34m\u001b[0m\u001b[0m\n",
      "\u001b[0;32m/usr/local/lib/python3.6/dist-packages/torch/nn/functional.py\u001b[0m in \u001b[0;36membedding\u001b[0;34m(input, weight, padding_idx, max_norm, norm_type, scale_grad_by_freq, sparse)\u001b[0m\n\u001b[1;32m   1812\u001b[0m         \u001b[0;31m# remove once script supports set_grad_enabled\u001b[0m\u001b[0;34m\u001b[0m\u001b[0;34m\u001b[0m\u001b[0;34m\u001b[0m\u001b[0m\n\u001b[1;32m   1813\u001b[0m         \u001b[0m_no_grad_embedding_renorm_\u001b[0m\u001b[0;34m(\u001b[0m\u001b[0mweight\u001b[0m\u001b[0;34m,\u001b[0m \u001b[0minput\u001b[0m\u001b[0;34m,\u001b[0m \u001b[0mmax_norm\u001b[0m\u001b[0;34m,\u001b[0m \u001b[0mnorm_type\u001b[0m\u001b[0;34m)\u001b[0m\u001b[0;34m\u001b[0m\u001b[0;34m\u001b[0m\u001b[0m\n\u001b[0;32m-> 1814\u001b[0;31m     \u001b[0;32mreturn\u001b[0m \u001b[0mtorch\u001b[0m\u001b[0;34m.\u001b[0m\u001b[0membedding\u001b[0m\u001b[0;34m(\u001b[0m\u001b[0mweight\u001b[0m\u001b[0;34m,\u001b[0m \u001b[0minput\u001b[0m\u001b[0;34m,\u001b[0m \u001b[0mpadding_idx\u001b[0m\u001b[0;34m,\u001b[0m \u001b[0mscale_grad_by_freq\u001b[0m\u001b[0;34m,\u001b[0m \u001b[0msparse\u001b[0m\u001b[0;34m)\u001b[0m\u001b[0;34m\u001b[0m\u001b[0;34m\u001b[0m\u001b[0m\n\u001b[0m\u001b[1;32m   1815\u001b[0m \u001b[0;34m\u001b[0m\u001b[0m\n\u001b[1;32m   1816\u001b[0m \u001b[0;34m\u001b[0m\u001b[0m\n",
      "\u001b[0;31mRuntimeError\u001b[0m: Expected object of device type cuda but got device type cpu for argument #1 'self' in call to _th_index_select"
     ]
    }
   ],
   "source": [
    "# Training code here\n",
    "device = torch.device('cuda' if torch.cuda.is_available() else 'cpu')\n",
    "\n",
    "\n",
    "train_data_loader = get_loader(root=path_to_homework + '/flickr30k_images/', split='train', vocab=vocab,\n",
    "                               transform=transform, batch_size=batch_size, shuffle=True, num_workers=12)\n",
    "val_data_loader = get_loader(root=path_to_homework + '/flickr30k_images/', split='val', vocab=vocab,\n",
    "                             transform=transform, batch_size=8, shuffle=True, num_workers=4)\n",
    "\n",
    "# pretrained embedding weights\n",
    "pre_emb_path = '.'  # type the path to the pretrained embedding you find\n",
    "\n",
    "model = Word_embeddings(vocab_size=len(vocab), emb_dim=emb_dim, hidden_dim=hidden_dim, pretrained_emb=pre_emb_path,\n",
    "                   num_layers=1, dropout=dropout).to(device)  # build a model\n",
    "\n",
    "# loss and optimizer\n",
    "criterion = nn.CrossEntropyLoss().to(device)  # CE loss\n",
    "optimizer = torch.optim.Adam(model.parameters(), lr=lr, weight_decay=weight_decay)  # optimizer\n",
    "scheduler = torch.optim.lr_scheduler.StepLR(optimizer, \n",
    "                                      step_size=5,\n",
    "                                      gamma=0.5)  # decay LR by a factor of 0.5 every 10 epochs. You can change this\n",
    "\n",
    "# logs\n",
    "Train_Losses = []  # record average training loss each epoch\n",
    "Val_Losses = []   # record average validation loss each epoch\n",
    "total_step = len(train_data_loader)  # number of iterations each epoch\n",
    "best_val_loss = np.inf\n",
    "\n",
    "# start training\n",
    "print('Start training...')\n",
    "import time\n",
    "tic = time.time()\n",
    "for epoch in range(num_epochs):\n",
    "    print('Switch to training...')\n",
    "    model.train()\n",
    "    Train_loss_iter = []  # record the the training loss each iteration\n",
    "    for itr, (images, captions, lengths) in enumerate(train_data_loader):\n",
    "        ########Your Code###########\n",
    "        # train your model\n",
    "        \n",
    "        # record the training loss\n",
    "        \n",
    "        \n",
    "        # print log info\n",
    "        images = images.to(device)\n",
    "        captions = captions.to(device)\n",
    "            \n",
    "        #features = Encoder(images)\n",
    "        #outputs = Decoder(features, captions, lengths)\n",
    "        \n",
    "        targets = pack_padded_sequence(captions, lengths,batch_first = True)[0].to(device)\n",
    "        optimizer.zero_grad()\n",
    "\n",
    "        outputs = model(images, captions, lengths)\n",
    "         \n",
    "        criterion = nn.CrossEntropyLoss()\n",
    "        loss = criterion(outputs,targets)\n",
    "\n",
    "        loss.backward()\n",
    "        optimizer.step()\n",
    "        \n",
    "        if itr % log_step == 0:\n",
    "            # print current loss and perplexity\n",
    "            print('Epoch [{}/{}], Step [{}/{}], Loss: {:.4f}, Perplexity: {:5.4f}'\n",
    "                      .format(epoch, num_epochs, itr, total_step, loss.item(), np.exp(loss.item())))\n",
    "    scheduler.step()\n",
    "    Train_Losses.append(np.mean(Train_loss_iter))\n",
    "    np.save(os.path.join(output_dir, 'TrainingLoss_lstm.npy'), Train_Losses)  # save the training loss\n",
    "    \n",
    "    model.eval()\n",
    "    # (optional) generate a sample during the training, you can use deterministic mode\n",
    "    # Your code\n",
    "    \n",
    "    \n",
    "    # validation\n",
    "    Val_Losses.append(val(model, val_data_loader, vocab))\n",
    "    np.save(os.path.join(output_dir, 'ValLoss_lstm.npy'), Val_Losses) # save the val loss\n",
    "    \n",
    "    # save model\n",
    "    if Val_Losses[-1] < best_val_loss:\n",
    "        best_val_loss = Val_Losses[-1]\n",
    "        print('updated best val loss:', best_val_loss)\n",
    "        print('Save model weights to...', output_dir)\n",
    "        torch.save(model.state_dict(), \n",
    "                   os.path.join(output_dir, 'pretrain-best.pth'.format(epoch + 1, itr + 1)))\n",
    "\n",
    "print('It took: {} s'.format(time.time() - tic))"
   ]
  },
  {
   "cell_type": "markdown",
   "metadata": {
    "id": "oH9PlyElJ3ts"
   },
   "source": [
    "## Section 3.2.3 Evaluation [3 pts]"
   ]
  },
  {
   "cell_type": "code",
   "execution_count": null,
   "metadata": {
    "id": "BMmlw5IXJ3ts"
   },
   "outputs": [],
   "source": [
    "## Evaluate your model using BLEU score. Use Deterministic mode"
   ]
  },
  {
   "cell_type": "code",
   "execution_count": null,
   "metadata": {
    "id": "GKXL5R72bbNh"
   },
   "outputs": [],
   "source": [
    "## evaluation code\n",
    "from tqdm import tqdm, tqdm_notebook\n",
    "from nltk.translate.bleu_score import sentence_bleu\n",
    "from nltk.translate.bleu_score import SmoothingFunction\n",
    "smoother = SmoothingFunction()\n",
    "\n",
    "def caption_generator(model, images, vocab, img_ids, captions, mode='Deterministic', temperature=1.0):\n",
    "    \"\"\"\n",
    "    Generate captions.\n",
    "    :param mode:\n",
    "    :return:\n",
    "    \"\"\"\n",
    "    sample_idxs = model.sample_generate(images, mode=mode,\n",
    "                                        temperature=temperature).data.cpu().numpy()  # [N, max_length]\n",
    "    for i, sentence in enumerate(sample_idxs):  # every sentence in this batch\n",
    "        sentence_caption = ''\n",
    "        for word_idx in sentence:\n",
    "            word = vocab.idx2word[word_idx]\n",
    "            if word != '<start>' and word != '<end>':\n",
    "                if word == '.':\n",
    "                    sentence_caption += '.'\n",
    "                else:\n",
    "                    sentence_caption += word + ' '\n",
    "            if word == '<end>':\n",
    "                break\n",
    "        captions.append({'caption': sentence_caption})\n",
    "        # captions.append(sentence_caption)\n",
    "\n",
    "    return captions\n",
    "\n",
    "def run_test(model, data_loader, vocab, mode='Deterministic', temperature=1.0):\n",
    "    \"\"\"\n",
    "    Run your model on the test set.\n",
    "    Inputs:\n",
    "    :param model: the model you use\n",
    "    :param data_loader: the data_loader\n",
    "    :param mode: use 'deterministic' or 'stochastic'\n",
    "    Outputs:\n",
    "    :param predictions\n",
    "    \"\"\"\n",
    "    predictions = []\n",
    "    for itr, (images, captions, lengths) in enumerate(tqdm(data_loader)):\n",
    "        images = Variable(images).to(device)\n",
    "        captions = Variable(captions).to(device)\n",
    "        outputs = model(images, captions, lengths)\n",
    "        \n",
    "        img_ids = list(range(itr * data_loader.batch_size, (itr + 1) * data_loader.batch_size))\n",
    "        predictions = caption_generator(model, images, vocab, img_ids, \n",
    "                                        predictions, mode=mode, temperature=temperature)\n",
    "        \n",
    "    return predictions\n",
    "\n",
    "def evaluation(model, vocab, data_path=path_to_homework + '/flickr30k_images/', mode='Deterministic', temperature=1.0,\n",
    "               split='test'):\n",
    "    \"\"\"\n",
    "    Evaluate the performance of your model on the test set using BLEU scores.\n",
    "    Inputs:\n",
    "    :param model: the model you use\n",
    "    :param weight_path: the directory to the weights of your model\n",
    "    :param vocab: vocabulary\n",
    "    :param data_path: the directory to the dataset\n",
    "    :param mode: use 'deterministic' or 'stochastic'\n",
    "    Outputs:\n",
    "    :param predictions\n",
    "    \"\"\"\n",
    "    # data loader\n",
    "    test_data_loader = get_loader(root=path_to_homework + '/flickr30k_images/', split=split, vocab=vocab, \n",
    "                                  transform=transform, batch_size=8, shuffle=False, num_workers=4)\n",
    "    \n",
    "    # run your model on the test set\n",
    "    print('Run on the test set...')\n",
    "    preds = run_test(model, test_data_loader, vocab, mode, temperature)\n",
    "    \n",
    "    # load the groundtruth\n",
    "    gt = test_data_loader.dataset.annos\n",
    "    \n",
    "    # evaluate the performance using BLEU score\n",
    "    score1 = 0\n",
    "    score2 = 0\n",
    "    score3 = 0\n",
    "    score4 = 0\n",
    "    \n",
    "    print('Computing BLEU')\n",
    "    for itr in tqdm(range(len(gt))):\n",
    "        candidate = preds[itr]['caption']\n",
    "        reference = [sent['raw'] for sent in gt[itr]['sentences']]\n",
    "        score1 += sentence_bleu(reference, candidate, weights=(1, 0, 0, 0), smoothing_function=smoother.method1)\n",
    "        score2 += sentence_bleu(reference, candidate, weights=(0, 1, 0, 0), smoothing_function=smoother.method1)\n",
    "        score3 += sentence_bleu(reference, candidate, weights=(0, 0, 1, 0), smoothing_function=smoother.method1)\n",
    "        score4 += sentence_bleu(reference, candidate, weights=(0, 0, 0, 1), smoothing_function=smoother.method1)\n",
    "    \n",
    "    bleu1 = 100 * score1/len(gt)\n",
    "    bleu2 = 100 * score2/len(gt)\n",
    "    bleu3 = 100 * score3/len(gt)\n",
    "    bleu4 = 100 * score4/len(gt)\n",
    "    \n",
    "    return bleu1, bleu2, bleu3, bleu4"
   ]
  },
  {
   "cell_type": "code",
   "execution_count": null,
   "metadata": {
    "id": "uG_m93qPbfU9"
   },
   "outputs": [],
   "source": [
    "transform = transforms.Compose([\n",
    "        transforms.Resize(256),\n",
    "        transforms.CenterCrop(224),\n",
    "        #     transforms.RandomCrop(224, pad_if_needed=True),\n",
    "        transforms.RandomHorizontalFlip(),\n",
    "        transforms.ToTensor(),\n",
    "        transforms.Normalize(mean=(0.485, 0.456, 0.406),\n",
    "                             std=(0.229, 0.224, 0.225))])\n",
    "\n",
    "## Evaluate your model using BLEU score. Use Deterministic mode\n",
    "model = LSTM(vocab_size=len(vocab), emb_dim=emb_dim, hidden_dim=hidden_dim, \n",
    "                   num_layers=1, dropout=dropout).to(device)  # build a model\n",
    "model.load_state_dict(torch.load(path_to_homework + '/checkpoints/lstm/lstm-best.pth', map_location=torch.device('cpu')))\n",
    "model.eval()\n",
    "bleu1, bleu2, bleu3, bleu4 = evaluation(model, vocab, mode='Deterministic')\n",
    "print(\"BLEU 1:{}, BLEU 2:{}, BLEU 3:{}, BLEU 4:{}\".format(bleu1, bleu2, bleu3, bleu4))"
   ]
  },
  {
   "cell_type": "markdown",
   "metadata": {
    "id": "-ABde4doJ3tu"
   },
   "source": [
    "## Section 3.2.4 Discussion [2 pts]\n",
    "Compared to index embeddings, do pretrained embeddings improve the performance? Try to explain it."
   ]
  },
  {
   "cell_type": "markdown",
   "metadata": {
    "id": "X3Zc4RjIJ3tu"
   },
   "source": [
    "**Your Comments**:"
   ]
  },
  {
   "cell_type": "markdown",
   "metadata": {
    "id": "zGwqzBTNJ3tu"
   },
   "source": [
    "### Guidelines for Downloading PDF in Google Colab\n",
    "- Run below cells only in Google Colab, Comment out in case of Jupyter notebook"
   ]
  },
  {
   "cell_type": "code",
   "execution_count": null,
   "metadata": {
    "id": "LjTulhZGJ3tv"
   },
   "outputs": [],
   "source": [
    "#Run below two lines (in google colab), installation steps to get .pdf of the notebook\n",
    "\n",
    "!apt-get install texlive texlive-xetex texlive-latex-extra pandoc\n",
    "!pip install pypandoc\n",
    "\n",
    "# After installation, comment above two lines and run again to remove installation comments from the notebook."
   ]
  },
  {
   "cell_type": "code",
   "execution_count": null,
   "metadata": {
    "id": "XsgKXUXcJ3tw"
   },
   "outputs": [],
   "source": [
    "# Find path to your notebook file in drive and enter in below line\n",
    "\n",
    "!jupyter nbconvert --to PDF \"your_notebook_path_here/DL_Assignment_4.ipynb\"\n",
    "\n",
    "#Example: \"/content/drive/My Drive/DL_Fall_2020/Assignment_4/DL_Assignment_4.ipynb\""
   ]
  }
 ],
 "metadata": {
  "accelerator": "GPU",
  "colab": {
   "collapsed_sections": [
    "zGwqzBTNJ3tu"
   ],
   "name": "Assignment_4_NB_Niket.ipynb",
   "provenance": []
  },
  "kernelspec": {
   "display_name": "Python 3",
   "language": "python",
   "name": "python3"
  },
  "language_info": {
   "codemirror_mode": {
    "name": "ipython",
    "version": 3
   },
   "file_extension": ".py",
   "mimetype": "text/x-python",
   "name": "python",
   "nbconvert_exporter": "python",
   "pygments_lexer": "ipython3",
   "version": "3.7.6"
  }
 },
 "nbformat": 4,
 "nbformat_minor": 1
}
